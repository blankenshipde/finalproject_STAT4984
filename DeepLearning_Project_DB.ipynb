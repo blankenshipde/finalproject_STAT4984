{
  "cells": [
    {
      "cell_type": "markdown",
      "metadata": {
        "id": "gi2GkvPtF7y6"
      },
      "source": [
        "**Deep Learning Sentiment Analysis Project - David Blankenship**"
      ]
    },
    {
      "cell_type": "markdown",
      "metadata": {},
      "source": [
        "The Following Code was ran locally on my PC, the Cell for Google Colab is for the case that my model needs to be retrained to verify it."
      ]
    },
    {
      "cell_type": "markdown",
      "metadata": {
        "id": "71Q4Z1BqlUqK"
      },
      "source": [
        "**Connecting to Google Drive**\n",
        "Only Run if Google Colab is used"
      ]
    },
    {
      "cell_type": "code",
      "execution_count": null,
      "metadata": {
        "colab": {
          "base_uri": "https://localhost:8080/"
        },
        "id": "1oAhmMS8eei3",
        "outputId": "c4ee52b3-a188-4d88-e516-bf8d045be682"
      },
      "outputs": [],
      "source": [
        "# Mount your Google Drive to this notebook\n",
        "from google.colab import drive\n",
        "drive.mount('/content/drive')\n",
        "\n",
        "# Change the directory to your own working directory. (A \"directory\" is the same thing as a \"folder\".)\n",
        "# Any files under your working directory are available to your code.\n",
        "import os\n",
        "os.chdir('/content/drive/MyDrive/Colab Notebooks')"
      ]
    },
    {
      "cell_type": "markdown",
      "metadata": {
        "id": "y93Mb6HalYWZ"
      },
      "source": [
        "Installing all the Libraries Used\n",
        "\n",
        "**Be sure to change the file path to the folder that you are using for the code to function.**"
      ]
    },
    {
      "cell_type": "code",
      "execution_count": 2,
      "metadata": {
        "colab": {
          "base_uri": "https://localhost:8080/"
        },
        "id": "04puaLEpyY9p",
        "outputId": "54b56f17-5f52-4910-8166-e026ba0b41db"
      },
      "outputs": [
        {
          "name": "stdout",
          "output_type": "stream",
          "text": [
            "cuda\n"
          ]
        }
      ],
      "source": [
        "# Uncomment if ran on Colab\n",
        "#! pip install datasets \n",
        "#! pip install evaluate\n",
        "import pandas as pd\n",
        "import numpy as np\n",
        "from transformers import AutoTokenizer\n",
        "from transformers import AutoModelForSequenceClassification\n",
        "from datasets import Dataset\n",
        "import evaluate\n",
        "import torch\n",
        "from torch import nn\n",
        "from torch.utils.data import DataLoader\n",
        "from torch.optim import AdamW\n",
        "from torchinfo import summary\n",
        "from transformers import get_scheduler\n",
        "import matplotlib.pyplot as plt\n",
        "from tqdm.auto import tqdm\n",
        "import os\n",
        "\n",
        "device = torch.device(\"cuda\" if torch.cuda.is_available() else \"cpu\")\n",
        "print(device)\n",
        "\n",
        "path = r'D:\\Grad School - VT\\Coursework\\9th Semester (S25, CPE)\\Deep Learning (Stats)\\Project'"
      ]
    },
    {
      "cell_type": "markdown",
      "metadata": {
        "id": "P8kApsUjlccI"
      },
      "source": [
        "**Preprocessing Dataset**"
      ]
    },
    {
      "cell_type": "markdown",
      "metadata": {
        "id": "4ldcrY47lh4w"
      },
      "source": [
        "Only Requires original dataset to be present in the Google Drive folder.  \n",
        "The code takes care of splitting it into train/dev/test sets and setting to expected formats."
      ]
    },
    {
      "cell_type": "code",
      "execution_count": null,
      "metadata": {
        "colab": {
          "base_uri": "https://localhost:8080/",
          "height": 131,
          "referenced_widgets": [
            "9314ef64f1d64f6e9e19cbbbd99dd619",
            "e88c3fa6e8554282b4a32e5cab24a2b3",
            "adddf21c4ce9434ead101c200b4bad06",
            "296308aad98e49b5a32f99a82077c7d1",
            "7315ece2314b4852bde603929ae713ae",
            "8d96471c58934d4bb8e9ab13fd904333",
            "e551386c6fd2474e872c6bb1a794e3fe",
            "04a69b1036ab4470bca96081d9428d4c",
            "ad081336388842c089e6a939a3694ded",
            "fdc3c0d0ab5d4b90954552e5c044eda4",
            "e984326269314c2fac804a88f0414cb1",
            "f965787196e74f31906159b7215948a3",
            "81279b5d903244e2b9d1dce4b77f248b",
            "1d03fa56a7b1424382ff26729e445a6a",
            "82ea184c9b2c4ac7a442fe1f059859ab",
            "a3aa7a68eb8240ca9f4058917757cdf5",
            "016aae0dd8c14f1c9662a782cf77e58f",
            "702d6858a7fb4ec7b0676dd6919c3a60",
            "8661f480d3ee4b97bc606fde25c23962",
            "276d53bd996e4d5dbcf6263ed6e0d957",
            "d0fe3e34cf374de88f03ae4732ab2561",
            "ca7c1efa9c514b6ca5f96681fe2c64cf",
            "448f3db9059a4267a8cbb8b956db8021",
            "e3214d5b67814d7db451ba4ec25c07da",
            "056c1a408a92457686ed89591227fba6",
            "a8dcc7a792524b15acc979acc29d0cdc",
            "56b7a39588d84e209cb7691de290a5dc",
            "c6adb6f6746049cf9f5b8d3170fad15e",
            "e99ba5e74db745f5be8098d7f76b0cbb",
            "5c27c39118134bbf98fe4c74d4bd04eb",
            "c924b3d3406441469cb21692e1e09a73",
            "e53cc507f426414598a999796c8c4b8b",
            "fc572a754114410a97971b4ba34b3a83"
          ]
        },
        "id": "nSWWbAcHYY1j",
        "outputId": "50d3a4a4-ed2a-4a0e-ff02-4a371969fdc4"
      },
      "outputs": [
        {
          "name": "stdout",
          "output_type": "stream",
          "text": [
            "Test Set Size = 40000 / Dev Set Size = 5000 / Test Set Size = 5000\n"
          ]
        },
        {
          "data": {
            "application/vnd.jupyter.widget-view+json": {
              "model_id": "2143b1d2627744c99d289575a370ee8e",
              "version_major": 2,
              "version_minor": 0
            },
            "text/plain": [
              "Map:   0%|          | 0/40000 [00:00<?, ? examples/s]"
            ]
          },
          "metadata": {},
          "output_type": "display_data"
        },
        {
          "data": {
            "application/vnd.jupyter.widget-view+json": {
              "model_id": "751c3574648449558894d99b538ca074",
              "version_major": 2,
              "version_minor": 0
            },
            "text/plain": [
              "Map:   0%|          | 0/5000 [00:00<?, ? examples/s]"
            ]
          },
          "metadata": {},
          "output_type": "display_data"
        },
        {
          "data": {
            "application/vnd.jupyter.widget-view+json": {
              "model_id": "a48581b782674808ba7663eb9adbc4df",
              "version_major": 2,
              "version_minor": 0
            },
            "text/plain": [
              "Map:   0%|          | 0/5000 [00:00<?, ? examples/s]"
            ]
          },
          "metadata": {},
          "output_type": "display_data"
        },
        {
          "data": {
            "image/png": "[encoded data removed]",
            "text/plain": [
              "<Figure size 1000x600 with 1 Axes>"
            ]
          },
          "metadata": {},
          "output_type": "display_data"
        },
        {
          "data": {
            "image/png": "[encoded data removed]",
            "text/plain": [
              "<Figure size 640x480 with 1 Axes>"
            ]
          },
          "metadata": {},
          "output_type": "display_data"
        }
      ],
      "source": [
        "# Loading in Dataset, must include your own path to recreate\n",
        "df = pd.read_csv(os.path.join(path, 'IMDB Dataset.csv'))\n",
        "\n",
        "# Mapping sentiment to 0 and 1\n",
        "df['sentiment'] = df['sentiment'].map({'positive': 0, 'negative': 1}) \n",
        "\n",
        "# Number of samples per dataset split\n",
        "train_num = 40000\n",
        "dev_num = 5000\n",
        "test_num = 5000\n",
        "\n",
        "rand_seed = 24060\n",
        "\n",
        "# Splitting dataset into train/dev/test sets\n",
        "train_dataset = df.sample(frac=train_num/len(df), random_state=rand_seed)\n",
        "df = df.drop(train_dataset.index)\n",
        "dev_dataset = df.sample(frac=dev_num/len(df), random_state=rand_seed)\n",
        "df = df.drop(dev_dataset.index)\n",
        "test_dataset = df.sample(frac=test_num/len(df), random_state=rand_seed)\n",
        "\n",
        "print('Test Set Size =', len(train_dataset),'/ Dev Set Size =', len(dev_dataset),'/ Test Set Size =', len(test_dataset))\n",
        "\n",
        "# Setting datasets as Huggingface datasets\n",
        "train_dataset = Dataset.from_pandas(train_dataset, preserve_index=False)\n",
        "dev_dataset = Dataset.from_pandas(dev_dataset, preserve_index=False)\n",
        "test_dataset = Dataset.from_pandas(test_dataset, preserve_index=False)\n",
        "\n",
        "# Model id and Tokenizer, DistillBERT was used for this project\n",
        "model_id = \"distilbert-base-uncased\"\n",
        "tokenizer = AutoTokenizer.from_pretrained(model_id, clean_up_tokenization_spaces=True)\n",
        "\n",
        "# Function to tokenize\n",
        "def tokenize_function(examples):\n",
        "    # Tokenize the text and include the labels\n",
        "    tokenized_output = tokenizer(examples[\"review\"], padding=\"max_length\", truncation=True)\n",
        "    # Rename the 'sentiment' column to 'labels' which is expected by the Trainer\n",
        "    tokenized_output['labels'] = examples['sentiment']\n",
        "    return tokenized_output\n",
        "\n",
        "# Tokenizing, removing columns and setting datasets as torch format\n",
        "train_dataset = train_dataset.map(tokenize_function, batched=True)\n",
        "train_dataset = train_dataset.remove_columns([\"review\", \"sentiment\"])\n",
        "train_dataset.set_format(\"torch\")\n",
        "\n",
        "dev_dataset = dev_dataset.map(tokenize_function, batched=True)\n",
        "dev_dataset = dev_dataset.remove_columns([\"review\", \"sentiment\"])\n",
        "dev_dataset.set_format(\"torch\")\n",
        "\n",
        "test_dataset = test_dataset.map(tokenize_function, batched=True)\n",
        "test_dataset = test_dataset.remove_columns([\"review\", \"sentiment\"])\n",
        "test_dataset.set_format(\"torch\")\n",
        "\n",
        "# Making Dataset Plots\n",
        "df['review_length'] = df['review'].apply(lambda x: len(x.split()))\n",
        "\n",
        "# Plot histogram\n",
        "plt.figure(figsize=(10, 6))\n",
        "plt.hist(df['review_length'], bins=50, color='skyblue', edgecolor='black')\n",
        "plt.title('Histogram of Review Lengths in Data Set')\n",
        "plt.xlabel('Number of Words')\n",
        "plt.ylabel('Number of Reviews')\n",
        "plt.grid(True)\n",
        "plt.show()"
      ]
    },
    {
      "cell_type": "markdown",
      "metadata": {
        "id": "OrHOv_a4lB3Y"
      },
      "source": [
        "DISTILBERT Model Training"
      ]
    },
    {
      "cell_type": "code",
      "execution_count": null,
      "metadata": {
        "colab": {
          "base_uri": "https://localhost:8080/",
          "height": 486,
          "referenced_widgets": [
            "9f0259e9e98e4c3690981f09484323b4",
            "2a72ce9a1d854f2bb05a68ae3f8f5a07",
            "c2dae111f0704b5eac27e92405529e49",
            "88ffdfeb3af74894aac2930c18e7fccf",
            "d82a71e1d26944efb210525583711e17",
            "4c240991a481408eaa889d65c5e2abd2",
            "238cd2118e224d9c9419072032754392",
            "aec37837b138451fbbe886d574addf7d",
            "b2a31a45856b497b948a357669b84058",
            "022516664e5e442198244776b177f177",
            "5bbf0c32b1d741459382fd4eca53a52d",
            "3c919ea438d84ac490f24de64babbdeb",
            "b8cc33b0f737470490e0f47c2c5a4e9f",
            "eabc74ed1ad04f6994064deb8d824249",
            "6d967abaf3ab44d5a28f138650bf7e8b",
            "2bbab61a61bb481e928c8733f019766c",
            "888f2e4657614aa181060150066ad6d5",
            "c7b373e1319d40c9a25921136442453d",
            "cf0bd2e250d64f249121e69bbbba32c4",
            "0a36db20246440e2bfc6a50e4c45b9e0",
            "233e5a16f0754848a669e7ce37b58fdd",
            "7100a5a9f2124573ac66cd3760c079b1"
          ]
        },
        "id": "pS5y0XPxYDmX",
        "outputId": "7f358124-577e-4c9a-e8a1-1101f04107f3"
      },
      "outputs": [
        {
          "name": "stderr",
          "output_type": "stream",
          "text": [
            "Some weights of DistilBertForSequenceClassification were not initialized from the model checkpoint at distilbert-base-uncased and are newly initialized: ['classifier.bias', 'classifier.weight', 'pre_classifier.bias', 'pre_classifier.weight']\n",
            "You should probably TRAIN this model on a down-stream task to be able to use it for predictions and inference.\n"
          ]
        },
        {
          "data": {
            "application/vnd.jupyter.widget-view+json": {
              "model_id": "7803b946ed244689b1d9a949cb2eb981",
              "version_major": 2,
              "version_minor": 0
            },
            "text/plain": [
              "  0%|          | 0/5000 [00:00<?, ?it/s]"
            ]
          },
          "metadata": {},
          "output_type": "display_data"
        },
        {
          "data": {
            "application/vnd.jupyter.widget-view+json": {
              "model_id": "ed700b2963154b6e9ae3de5afb9924cc",
              "version_major": 2,
              "version_minor": 0
            },
            "text/plain": [
              "  0%|          | 0/5000 [00:00<?, ?it/s]"
            ]
          },
          "metadata": {},
          "output_type": "display_data"
        },
        {
          "data": {
            "application/vnd.jupyter.widget-view+json": {
              "model_id": "6fc443c361bf4edba5ebd7209a7e0577",
              "version_major": 2,
              "version_minor": 0
            },
            "text/plain": [
              "  0%|          | 0/625 [00:00<?, ?it/s]"
            ]
          },
          "metadata": {},
          "output_type": "display_data"
        },
        {
          "name": "stdout",
          "output_type": "stream",
          "text": [
            "loss = 0.22706855\n",
            "Epoch 1 Train F1 Score = 0.96133\n",
            "Epoch 1 Dev F1 Score = 0.93402\n",
            "---------------------------------------------------\n"
          ]
        },
        {
          "data": {
            "application/vnd.jupyter.widget-view+json": {
              "model_id": "69101044c0c4468bb8e6d61cf51bfde1",
              "version_major": 2,
              "version_minor": 0
            },
            "text/plain": [
              "  0%|          | 0/5000 [00:00<?, ?it/s]"
            ]
          },
          "metadata": {},
          "output_type": "display_data"
        },
        {
          "data": {
            "application/vnd.jupyter.widget-view+json": {
              "model_id": "2b6577c338ab4ae791f50fef0be2afac",
              "version_major": 2,
              "version_minor": 0
            },
            "text/plain": [
              "  0%|          | 0/5000 [00:00<?, ?it/s]"
            ]
          },
          "metadata": {},
          "output_type": "display_data"
        },
        {
          "data": {
            "application/vnd.jupyter.widget-view+json": {
              "model_id": "f77a1ea6b25640ddb1a2e11fa39199bb",
              "version_major": 2,
              "version_minor": 0
            },
            "text/plain": [
              "  0%|          | 0/625 [00:00<?, ?it/s]"
            ]
          },
          "metadata": {},
          "output_type": "display_data"
        },
        {
          "name": "stdout",
          "output_type": "stream",
          "text": [
            "loss = 0.10875468\n",
            "Epoch 2 Train F1 Score = 0.98728\n",
            "Epoch 2 Dev F1 Score = 0.93588\n",
            "---------------------------------------------------\n"
          ]
        },
        {
          "data": {
            "application/vnd.jupyter.widget-view+json": {
              "model_id": "cb366ae1d6b145dd9f6876920b7e672c",
              "version_major": 2,
              "version_minor": 0
            },
            "text/plain": [
              "  0%|          | 0/5000 [00:00<?, ?it/s]"
            ]
          },
          "metadata": {},
          "output_type": "display_data"
        },
        {
          "data": {
            "application/vnd.jupyter.widget-view+json": {
              "model_id": "03a171af986747ef8f1498a5b6131a8d",
              "version_major": 2,
              "version_minor": 0
            },
            "text/plain": [
              "  0%|          | 0/5000 [00:00<?, ?it/s]"
            ]
          },
          "metadata": {},
          "output_type": "display_data"
        },
        {
          "data": {
            "application/vnd.jupyter.widget-view+json": {
              "model_id": "7fdc3c0afab44e1ea899dda841507170",
              "version_major": 2,
              "version_minor": 0
            },
            "text/plain": [
              "  0%|          | 0/625 [00:00<?, ?it/s]"
            ]
          },
          "metadata": {},
          "output_type": "display_data"
        },
        {
          "name": "stdout",
          "output_type": "stream",
          "text": [
            "loss = 0.04222348\n",
            "Epoch 3 Train F1 Score = 0.99416\n",
            "Epoch 3 Dev F1 Score = 0.93959\n",
            "---------------------------------------------------\n"
          ]
        },
        {
          "data": {
            "application/vnd.jupyter.widget-view+json": {
              "model_id": "33d53f9ead304e9db200acc4a59e84c0",
              "version_major": 2,
              "version_minor": 0
            },
            "text/plain": [
              "  0%|          | 0/625 [00:00<?, ?it/s]"
            ]
          },
          "metadata": {},
          "output_type": "display_data"
        },
        {
          "name": "stdout",
          "output_type": "stream",
          "text": [
            "Test F1 Score = 0.93495\n"
          ]
        }
      ],
      "source": [
        "model_name = 'DISTILBERT_Model'\n",
        "\n",
        "# Hyperparameters\n",
        "batch_size = 8\n",
        "learning_rate = 2e-5\n",
        "epoch_num = 3\n",
        "\n",
        "# Setting datasets to torch expected format\n",
        "train_dataloader = DataLoader(train_dataset, shuffle=True, batch_size=batch_size)\n",
        "dev_dataloader = DataLoader(dev_dataset, batch_size=batch_size)\n",
        "test_dataloader = DataLoader(test_dataset, batch_size=batch_size)\n",
        "\n",
        "# Loading model and moving it to device\n",
        "model = AutoModelForSequenceClassification.from_pretrained(model_id, num_labels=2);\n",
        "model.to(device)\n",
        "\n",
        "# Setting optimizer to Adam\n",
        "optimizer = AdamW(model.parameters(), lr=learning_rate)\n",
        "\n",
        "# Setting learning rate scheduler\n",
        "num_steps = len(train_dataloader)*epoch_num\n",
        "lr_scheduler = get_scheduler(name=\"linear\", optimizer=optimizer, num_warmup_steps=0, num_training_steps=num_steps)\n",
        "\n",
        "# Setting evaluation metric\n",
        "metric = evaluate.load(\"f1\")\n",
        "model.eval()\n",
        "loss_fn = nn.CrossEntropyLoss()\n",
        "\n",
        "# Model Training Loop\n",
        "model.train()\n",
        "for epoch in range(epoch_num):\n",
        "\n",
        "    # Setting progress bar\n",
        "    pbar = tqdm(range(int(num_steps/epoch_num)))\n",
        "    pbar.set_description(f\"Epoch {epoch+1} Training\")\n",
        "\n",
        "    losses = []\n",
        "    # Training Loop\n",
        "    for batch in train_dataloader:\n",
        "        pbar.update(1)\n",
        "\n",
        "        batch = {k: v.to(device) for k, v in batch.items()}\n",
        "        labels = batch['labels']\n",
        "        outputs = model(batch['input_ids'], batch['attention_mask'])\n",
        "        logits = outputs['logits']\n",
        "\n",
        "        loss = loss_fn(logits, labels)\n",
        "\n",
        "        loss.backward()\n",
        "        optimizer.step()\n",
        "        lr_scheduler.step()\n",
        "        optimizer.zero_grad()\n",
        "        losses.append(loss.item())\n",
        "\n",
        "    pbar = tqdm(range(int(num_steps/epoch_num)))\n",
        "    pbar.set_description(f\"Epoch {epoch+1} Train Score\")\n",
        "    \n",
        "    # Acc score loop for training set\n",
        "    for batch in train_dataloader:\n",
        "        batch = {k: v.to(device) for k, v in batch.items()}\n",
        "        with torch.no_grad():\n",
        "          labels = batch['labels']\n",
        "          outputs = model(batch['input_ids'], batch['attention_mask'])\n",
        "\n",
        "        pbar.update(1)\n",
        "        logits = outputs['logits']\n",
        "        preds = torch.argmax(logits, dim=-1)\n",
        "        metric.add_batch(predictions=preds, references=labels)\n",
        "\n",
        "    train_acc =  metric.compute()\n",
        "\n",
        "    pbar = tqdm(range(len(dev_dataloader)))\n",
        "    pbar.set_description(f\"Epoch {epoch+1} Dev Score\")\n",
        "    \n",
        "    # Acc score loop for devlopment set\n",
        "    for batch in dev_dataloader:\n",
        "        batch = {k: v.to(device) for k, v in batch.items()}\n",
        "        with torch.no_grad():\n",
        "          labels = batch['labels']\n",
        "          outputs = model(batch['input_ids'], batch['attention_mask'])\n",
        "\n",
        "        pbar.update(1)\n",
        "        logits = outputs['logits']\n",
        "        preds = torch.argmax(logits, dim=-1)\n",
        "        metric.add_batch(predictions=preds, references=labels)\n",
        "\n",
        "    dev_acc =  metric.compute()\n",
        "\n",
        "    print(f\"loss =\", round(np.mean(losses), 8))\n",
        "    print(f\"Epoch {epoch+1} Train F1 Score =\", round(train_acc[\"f1\"], 5))\n",
        "    print(f\"Epoch {epoch+1} Dev F1 Score =\", round(dev_acc[\"f1\"], 5))\n",
        "\n",
        "    print(\"---------------------------------------------------\")\n",
        "\n",
        "pbar = tqdm(range(len(test_dataloader)))\n",
        "pbar.set_description(f\"Epoch {epoch+1} Test Score\")\n",
        "\n",
        "# Acc score loop for test set\n",
        "for batch in test_dataloader:\n",
        "    batch = {k: v.to(device) for k, v in batch.items()}\n",
        "    with torch.no_grad():\n",
        "      labels = batch['labels']\n",
        "      outputs = model(batch['input_ids'], batch['attention_mask'])\n",
        "\n",
        "    pbar.update(1)\n",
        "    logits = outputs['logits']\n",
        "    preds = torch.argmax(logits, dim=-1)\n",
        "    metric.add_batch(predictions=preds, references=labels)\n",
        "\n",
        "print(\"Test F1 Score =\", round(metric.compute()[\"f1\"], 5))\n",
        "\n",
        "# Saves the model to specifiec path\n",
        "model.save_pretrained(os.path.join(path, model_name), from_pt=True)"
      ]
    },
    {
      "cell_type": "markdown",
      "metadata": {
        "id": "DFSsCk7alKgl"
      },
      "source": [
        "DISTILBERT Evaluation and Model Summary"
      ]
    },
    {
      "cell_type": "code",
      "execution_count": null,
      "metadata": {
        "colab": {
          "base_uri": "https://localhost:8080/",
          "height": 367
        },
        "id": "Idpv07tKb38F",
        "outputId": "b347de58-b36e-4b97-d2df-0def37d9e39d"
      },
      "outputs": [
        {
          "data": {
            "application/vnd.jupyter.widget-view+json": {
              "model_id": "ba4aaa0c8e284745b8f8cfd500cbad61",
              "version_major": 2,
              "version_minor": 0
            },
            "text/plain": [
              "  0%|          | 0/5000 [00:00<?, ?it/s]"
            ]
          },
          "metadata": {},
          "output_type": "display_data"
        },
        {
          "name": "stdout",
          "output_type": "stream",
          "text": [
            "Train F1 Score = 0.99629\n"
          ]
        },
        {
          "data": {
            "application/vnd.jupyter.widget-view+json": {
              "model_id": "9f2e9a33361a47e4bc9108e48f7daad7",
              "version_major": 2,
              "version_minor": 0
            },
            "text/plain": [
              "  0%|          | 0/625 [00:00<?, ?it/s]"
            ]
          },
          "metadata": {},
          "output_type": "display_data"
        },
        {
          "name": "stdout",
          "output_type": "stream",
          "text": [
            "Dev F1 Score = 0.94423\n"
          ]
        },
        {
          "data": {
            "application/vnd.jupyter.widget-view+json": {
              "model_id": "af40bbb904074638a13bdaa8710ee3d4",
              "version_major": 2,
              "version_minor": 0
            },
            "text/plain": [
              "  0%|          | 0/625 [00:00<?, ?it/s]"
            ]
          },
          "metadata": {},
          "output_type": "display_data"
        },
        {
          "name": "stdout",
          "output_type": "stream",
          "text": [
            "Test F1 Score = 0.94065\n"
          ]
        },
        {
          "data": {
            "text/plain": [
              "=========================================================================================================\n",
              "Layer (type:depth-idx)                                  Output Shape              Param #\n",
              "=========================================================================================================\n",
              "DistilBertForSequenceClassification                     [8, 2]                    --\n",
              "├─DistilBertModel: 1-1                                  [8, 512, 768]             --\n",
              "│    └─Embeddings: 2-1                                  [8, 512, 768]             --\n",
              "│    │    └─Embedding: 3-1                              [8, 512, 768]             23,440,896\n",
              "│    │    └─Embedding: 3-2                              [1, 512, 768]             393,216\n",
              "│    │    └─LayerNorm: 3-3                              [8, 512, 768]             1,536\n",
              "│    │    └─Dropout: 3-4                                [8, 512, 768]             --\n",
              "│    └─Transformer: 2-2                                 [8, 512, 768]             --\n",
              "│    │    └─ModuleList: 3-5                             --                        42,527,232\n",
              "├─Linear: 1-2                                           [8, 768]                  590,592\n",
              "├─Dropout: 1-3                                          [8, 768]                  --\n",
              "├─Linear: 1-4                                           [8, 2]                    1,538\n",
              "=========================================================================================================\n",
              "Total params: 66,955,010\n",
              "Trainable params: 66,955,010\n",
              "Non-trainable params: 0\n",
              "Total mult-adds (M): 532.89\n",
              "=========================================================================================================\n",
              "Input size (MB): 0.07\n",
              "Forward/backward pass size (MB): 1714.47\n",
              "Params size (MB): 267.82\n",
              "Estimated Total Size (MB): 1982.36\n",
              "========================================================================================================="
            ]
          },
          "execution_count": 23,
          "metadata": {},
          "output_type": "execute_result"
        }
      ],
      "source": [
        "# Loading model and evaluating\n",
        "model_name = 'DISTILBERT_Model'\n",
        "model_path = os.path.join(path, model_name)\n",
        "model = AutoModelForSequenceClassification.from_pretrained(model_path).to(device)\n",
        "\n",
        "#Hyperparameter required for cell\n",
        "batch_size = 8\n",
        "\n",
        "# Setting datasets to expected format\n",
        "train_dataloader = DataLoader(train_dataset, batch_size=batch_size)\n",
        "dev_dataloader = DataLoader(dev_dataset, batch_size=batch_size)\n",
        "test_dataloader = DataLoader(test_dataset, batch_size=batch_size)\n",
        "\n",
        "# Setting lists for evaluation loop\n",
        "sets = ['Train', 'Dev', 'Test']\n",
        "data_sets = [train_dataloader, dev_dataloader, test_dataloader]\n",
        "\n",
        "# Setting evaluation metric\n",
        "metric = evaluate.load(\"f1\")\n",
        "model.eval()\n",
        "\n",
        "for i in range(0,len(sets)):\n",
        "\n",
        "    name = sets[i]\n",
        "    data = data_sets[i]\n",
        "    \n",
        "    pbar = tqdm(range(len(data)))\n",
        "    pbar.set_description(f\"{name} Set\")\n",
        "    \n",
        "    for batch in data:\n",
        "        batch = {k: v.to(device) for k, v in batch.items()}\n",
        "        with torch.no_grad():\n",
        "            labels = batch['labels']\n",
        "            outputs = model(batch['input_ids'], batch['attention_mask'])\n",
        "\n",
        "        pbar.update(1)\n",
        "        logits = outputs['logits']\n",
        "        preds = torch.argmax(logits, dim=-1)\n",
        "        metric.add_batch(predictions=preds, references=labels)\n",
        "\n",
        "    print(name, 'F1 Score =', round(metric.compute()[\"f1\"], 5))\n",
        "    \n",
        "# Model Summary\n",
        "summary(model, input_data={\"input_ids\": torch.ones((8, 512), dtype=torch.long).to(device),\n",
        "                           \"attention_mask\": torch.ones((8, 512), dtype=torch.long).to(device)})"
      ]
    },
    {
      "cell_type": "markdown",
      "metadata": {},
      "source": [
        "**LSTM Benchmark for Comparison**"
      ]
    },
    {
      "cell_type": "markdown",
      "metadata": {},
      "source": [
        "LSTM Model"
      ]
    },
    {
      "cell_type": "code",
      "execution_count": null,
      "metadata": {},
      "outputs": [],
      "source": [
        "class LSTMClassifier(nn.Module):\n",
        "    def __init__(self, vocab_size, embedding_dim=128, hidden_dim=256, num_classes=2, padding_idx=0):\n",
        "        super(LSTMClassifier, self).__init__()\n",
        "        \n",
        "        self.embedding = nn.Embedding(vocab_size, embedding_dim, padding_idx=padding_idx)\n",
        "        self.lstm = nn.LSTM(embedding_dim, hidden_dim, batch_first=True, bidirectional=True)\n",
        "        self.classifier = nn.Linear(hidden_dim * 2, num_classes)  \n",
        "\n",
        "    def forward(self, input_ids, attention_mask):\n",
        "        \n",
        "        embedded = self.embedding(input_ids)  \n",
        "\n",
        "        lengths = attention_mask.sum(dim=1)\n",
        "        packed_input = nn.utils.rnn.pack_padded_sequence(embedded, lengths, batch_first=True, enforce_sorted=False)\n",
        "        packed_output, (hidden, _) = self.lstm(packed_input)\n",
        "        \n",
        "        hidden = torch.cat((hidden[-2,:,:], hidden[-1,:,:]), dim=1)  \n",
        "\n",
        "        logits = self.classifier(hidden)  \n",
        "        return {\"logits\": logits}\n",
        "    \n",
        "lstm_model_name = 'LSTM_Classifier'"
      ]
    },
    {
      "cell_type": "markdown",
      "metadata": {},
      "source": [
        "LSTM Training Loop"
      ]
    },
    {
      "cell_type": "code",
      "execution_count": 14,
      "metadata": {},
      "outputs": [
        {
          "data": {
            "application/vnd.jupyter.widget-view+json": {
              "model_id": "e3196d71dfd84f64bb04d2cc957583d4",
              "version_major": 2,
              "version_minor": 0
            },
            "text/plain": [
              "  0%|          | 0/5000 [00:00<?, ?it/s]"
            ]
          },
          "metadata": {},
          "output_type": "display_data"
        },
        {
          "data": {
            "application/vnd.jupyter.widget-view+json": {
              "model_id": "871116e6cf8a4b349b708d06dd51116c",
              "version_major": 2,
              "version_minor": 0
            },
            "text/plain": [
              "  0%|          | 0/5000 [00:00<?, ?it/s]"
            ]
          },
          "metadata": {},
          "output_type": "display_data"
        },
        {
          "data": {
            "application/vnd.jupyter.widget-view+json": {
              "model_id": "3d651b52ad7c46d9a699ef91cc7edbbc",
              "version_major": 2,
              "version_minor": 0
            },
            "text/plain": [
              "  0%|          | 0/625 [00:00<?, ?it/s]"
            ]
          },
          "metadata": {},
          "output_type": "display_data"
        },
        {
          "name": "stdout",
          "output_type": "stream",
          "text": [
            "loss = 0.46283772\n",
            "Epoch 1 Train F1 Score = 0.91718\n",
            "Epoch 1 Dev F1 Score = 0.88573\n",
            "---------------------------------------------------\n"
          ]
        },
        {
          "data": {
            "application/vnd.jupyter.widget-view+json": {
              "model_id": "39420f8f48f6480f8575c8ae38e63fdb",
              "version_major": 2,
              "version_minor": 0
            },
            "text/plain": [
              "  0%|          | 0/5000 [00:00<?, ?it/s]"
            ]
          },
          "metadata": {},
          "output_type": "display_data"
        },
        {
          "data": {
            "application/vnd.jupyter.widget-view+json": {
              "model_id": "a46c3df314444cf1b27c24b227ed0b4a",
              "version_major": 2,
              "version_minor": 0
            },
            "text/plain": [
              "  0%|          | 0/5000 [00:00<?, ?it/s]"
            ]
          },
          "metadata": {},
          "output_type": "display_data"
        },
        {
          "data": {
            "application/vnd.jupyter.widget-view+json": {
              "model_id": "d756bf994051456f83d499c8c2588ba5",
              "version_major": 2,
              "version_minor": 0
            },
            "text/plain": [
              "  0%|          | 0/625 [00:00<?, ?it/s]"
            ]
          },
          "metadata": {},
          "output_type": "display_data"
        },
        {
          "name": "stdout",
          "output_type": "stream",
          "text": [
            "loss = 0.21565906\n",
            "Epoch 2 Train F1 Score = 0.94556\n",
            "Epoch 2 Dev F1 Score = 0.89596\n",
            "---------------------------------------------------\n"
          ]
        },
        {
          "data": {
            "application/vnd.jupyter.widget-view+json": {
              "model_id": "3724ad38c64c41efaa9e0f907e000868",
              "version_major": 2,
              "version_minor": 0
            },
            "text/plain": [
              "  0%|          | 0/5000 [00:00<?, ?it/s]"
            ]
          },
          "metadata": {},
          "output_type": "display_data"
        },
        {
          "data": {
            "application/vnd.jupyter.widget-view+json": {
              "model_id": "b1fa178837b04f25912a3065c22d6c98",
              "version_major": 2,
              "version_minor": 0
            },
            "text/plain": [
              "  0%|          | 0/5000 [00:00<?, ?it/s]"
            ]
          },
          "metadata": {},
          "output_type": "display_data"
        },
        {
          "data": {
            "application/vnd.jupyter.widget-view+json": {
              "model_id": "8b9cd3ead1634079bae9c94f82a1ed72",
              "version_major": 2,
              "version_minor": 0
            },
            "text/plain": [
              "  0%|          | 0/625 [00:00<?, ?it/s]"
            ]
          },
          "metadata": {},
          "output_type": "display_data"
        },
        {
          "name": "stdout",
          "output_type": "stream",
          "text": [
            "loss = 0.13869697\n",
            "Epoch 3 Train F1 Score = 0.98208\n",
            "Epoch 3 Dev F1 Score = 0.90459\n",
            "---------------------------------------------------\n"
          ]
        },
        {
          "data": {
            "application/vnd.jupyter.widget-view+json": {
              "model_id": "4784c91861f9450abc1e2bc224646d1d",
              "version_major": 2,
              "version_minor": 0
            },
            "text/plain": [
              "  0%|          | 0/5000 [00:00<?, ?it/s]"
            ]
          },
          "metadata": {},
          "output_type": "display_data"
        },
        {
          "data": {
            "application/vnd.jupyter.widget-view+json": {
              "model_id": "99eb16f26bea4583b1de41da00393408",
              "version_major": 2,
              "version_minor": 0
            },
            "text/plain": [
              "  0%|          | 0/5000 [00:00<?, ?it/s]"
            ]
          },
          "metadata": {},
          "output_type": "display_data"
        },
        {
          "data": {
            "application/vnd.jupyter.widget-view+json": {
              "model_id": "dc94dca243284717b8f5ec70626111f0",
              "version_major": 2,
              "version_minor": 0
            },
            "text/plain": [
              "  0%|          | 0/625 [00:00<?, ?it/s]"
            ]
          },
          "metadata": {},
          "output_type": "display_data"
        },
        {
          "name": "stdout",
          "output_type": "stream",
          "text": [
            "loss = 0.06783527\n",
            "Epoch 4 Train F1 Score = 0.99304\n",
            "Epoch 4 Dev F1 Score = 0.89745\n",
            "---------------------------------------------------\n"
          ]
        },
        {
          "data": {
            "application/vnd.jupyter.widget-view+json": {
              "model_id": "c1532021f3264d718dbae936c85ce390",
              "version_major": 2,
              "version_minor": 0
            },
            "text/plain": [
              "  0%|          | 0/5000 [00:00<?, ?it/s]"
            ]
          },
          "metadata": {},
          "output_type": "display_data"
        },
        {
          "data": {
            "application/vnd.jupyter.widget-view+json": {
              "model_id": "78ed893a6dcb42d2ad501a0a4148109d",
              "version_major": 2,
              "version_minor": 0
            },
            "text/plain": [
              "  0%|          | 0/5000 [00:00<?, ?it/s]"
            ]
          },
          "metadata": {},
          "output_type": "display_data"
        },
        {
          "data": {
            "application/vnd.jupyter.widget-view+json": {
              "model_id": "05237ea8412e41aab53ea27cb7b22b71",
              "version_major": 2,
              "version_minor": 0
            },
            "text/plain": [
              "  0%|          | 0/625 [00:00<?, ?it/s]"
            ]
          },
          "metadata": {},
          "output_type": "display_data"
        },
        {
          "name": "stdout",
          "output_type": "stream",
          "text": [
            "loss = 0.02524417\n",
            "Epoch 5 Train F1 Score = 0.99812\n",
            "Epoch 5 Dev F1 Score = 0.89814\n",
            "---------------------------------------------------\n"
          ]
        },
        {
          "data": {
            "application/vnd.jupyter.widget-view+json": {
              "model_id": "d2a5a31198d44b5c959144bd237ed474",
              "version_major": 2,
              "version_minor": 0
            },
            "text/plain": [
              "  0%|          | 0/5000 [00:00<?, ?it/s]"
            ]
          },
          "metadata": {},
          "output_type": "display_data"
        },
        {
          "data": {
            "application/vnd.jupyter.widget-view+json": {
              "model_id": "3a57b15a92674543814c6581d2e39cce",
              "version_major": 2,
              "version_minor": 0
            },
            "text/plain": [
              "  0%|          | 0/5000 [00:00<?, ?it/s]"
            ]
          },
          "metadata": {},
          "output_type": "display_data"
        },
        {
          "data": {
            "application/vnd.jupyter.widget-view+json": {
              "model_id": "bd2be97fe3fb439d869d5904331de2e9",
              "version_major": 2,
              "version_minor": 0
            },
            "text/plain": [
              "  0%|          | 0/625 [00:00<?, ?it/s]"
            ]
          },
          "metadata": {},
          "output_type": "display_data"
        },
        {
          "name": "stdout",
          "output_type": "stream",
          "text": [
            "loss = 0.00932492\n",
            "Epoch 6 Train F1 Score = 0.99935\n",
            "Epoch 6 Dev F1 Score = 0.89563\n",
            "---------------------------------------------------\n"
          ]
        },
        {
          "data": {
            "application/vnd.jupyter.widget-view+json": {
              "model_id": "887f7bcf5d854e6fadcf719ae3283e8e",
              "version_major": 2,
              "version_minor": 0
            },
            "text/plain": [
              "  0%|          | 0/5000 [00:00<?, ?it/s]"
            ]
          },
          "metadata": {},
          "output_type": "display_data"
        },
        {
          "data": {
            "application/vnd.jupyter.widget-view+json": {
              "model_id": "ace58b94ce25425aa235e9f8417d217b",
              "version_major": 2,
              "version_minor": 0
            },
            "text/plain": [
              "  0%|          | 0/5000 [00:00<?, ?it/s]"
            ]
          },
          "metadata": {},
          "output_type": "display_data"
        },
        {
          "data": {
            "application/vnd.jupyter.widget-view+json": {
              "model_id": "c17f1ebab7724eb4b435dd37653ae0ab",
              "version_major": 2,
              "version_minor": 0
            },
            "text/plain": [
              "  0%|          | 0/625 [00:00<?, ?it/s]"
            ]
          },
          "metadata": {},
          "output_type": "display_data"
        },
        {
          "name": "stdout",
          "output_type": "stream",
          "text": [
            "loss = 0.00340696\n",
            "Epoch 7 Train F1 Score = 0.9999\n",
            "Epoch 7 Dev F1 Score = 0.89646\n",
            "---------------------------------------------------\n"
          ]
        },
        {
          "data": {
            "application/vnd.jupyter.widget-view+json": {
              "model_id": "774fd0a31350495e9e4580256f6d9843",
              "version_major": 2,
              "version_minor": 0
            },
            "text/plain": [
              "  0%|          | 0/5000 [00:00<?, ?it/s]"
            ]
          },
          "metadata": {},
          "output_type": "display_data"
        },
        {
          "data": {
            "application/vnd.jupyter.widget-view+json": {
              "model_id": "bab1244f4eeb4097befd05f015ffb190",
              "version_major": 2,
              "version_minor": 0
            },
            "text/plain": [
              "  0%|          | 0/5000 [00:00<?, ?it/s]"
            ]
          },
          "metadata": {},
          "output_type": "display_data"
        },
        {
          "data": {
            "application/vnd.jupyter.widget-view+json": {
              "model_id": "0af233b586224d14b718495ee87e521a",
              "version_major": 2,
              "version_minor": 0
            },
            "text/plain": [
              "  0%|          | 0/625 [00:00<?, ?it/s]"
            ]
          },
          "metadata": {},
          "output_type": "display_data"
        },
        {
          "name": "stdout",
          "output_type": "stream",
          "text": [
            "loss = 0.00084223\n",
            "Epoch 8 Train F1 Score = 0.99997\n",
            "Epoch 8 Dev F1 Score = 0.89674\n",
            "---------------------------------------------------\n"
          ]
        },
        {
          "data": {
            "application/vnd.jupyter.widget-view+json": {
              "model_id": "5aa58fddc7034482a8d8a70538b75f90",
              "version_major": 2,
              "version_minor": 0
            },
            "text/plain": [
              "  0%|          | 0/5000 [00:00<?, ?it/s]"
            ]
          },
          "metadata": {},
          "output_type": "display_data"
        },
        {
          "data": {
            "application/vnd.jupyter.widget-view+json": {
              "model_id": "8febc45f5d534f28bef5a345c53d3b01",
              "version_major": 2,
              "version_minor": 0
            },
            "text/plain": [
              "  0%|          | 0/5000 [00:00<?, ?it/s]"
            ]
          },
          "metadata": {},
          "output_type": "display_data"
        },
        {
          "data": {
            "application/vnd.jupyter.widget-view+json": {
              "model_id": "9af5ba3fdaef446cad19609dcd00fd9f",
              "version_major": 2,
              "version_minor": 0
            },
            "text/plain": [
              "  0%|          | 0/625 [00:00<?, ?it/s]"
            ]
          },
          "metadata": {},
          "output_type": "display_data"
        },
        {
          "name": "stdout",
          "output_type": "stream",
          "text": [
            "loss = 0.00021467\n",
            "Epoch 9 Train F1 Score = 1.0\n",
            "Epoch 9 Dev F1 Score = 0.89713\n",
            "---------------------------------------------------\n"
          ]
        },
        {
          "data": {
            "application/vnd.jupyter.widget-view+json": {
              "model_id": "d548fbab4a5a42a684ae6e2cf5780e51",
              "version_major": 2,
              "version_minor": 0
            },
            "text/plain": [
              "  0%|          | 0/5000 [00:00<?, ?it/s]"
            ]
          },
          "metadata": {},
          "output_type": "display_data"
        },
        {
          "data": {
            "application/vnd.jupyter.widget-view+json": {
              "model_id": "2a39c557fa7c4ed8b24b3d8e5c943941",
              "version_major": 2,
              "version_minor": 0
            },
            "text/plain": [
              "  0%|          | 0/5000 [00:00<?, ?it/s]"
            ]
          },
          "metadata": {},
          "output_type": "display_data"
        },
        {
          "data": {
            "application/vnd.jupyter.widget-view+json": {
              "model_id": "1111123b33dc4cfaa43b68abb40558c7",
              "version_major": 2,
              "version_minor": 0
            },
            "text/plain": [
              "  0%|          | 0/625 [00:00<?, ?it/s]"
            ]
          },
          "metadata": {},
          "output_type": "display_data"
        },
        {
          "name": "stdout",
          "output_type": "stream",
          "text": [
            "loss = 3.651e-05\n",
            "Epoch 10 Train F1 Score = 1.0\n",
            "Epoch 10 Dev F1 Score = 0.89914\n",
            "---------------------------------------------------\n"
          ]
        },
        {
          "data": {
            "application/vnd.jupyter.widget-view+json": {
              "model_id": "e6d1a24a506b4e86b95289d6ba5b6e80",
              "version_major": 2,
              "version_minor": 0
            },
            "text/plain": [
              "  0%|          | 0/625 [00:00<?, ?it/s]"
            ]
          },
          "metadata": {},
          "output_type": "display_data"
        },
        {
          "name": "stdout",
          "output_type": "stream",
          "text": [
            "Test F1 Score = 0.89779\n"
          ]
        }
      ],
      "source": [
        "# Hyperparameters\n",
        "batch_size = 8\n",
        "learning_rate = 1e-3\n",
        "epoch_num = 10\n",
        "\n",
        "# Setting datasets to torch expected format\n",
        "train_dataloader = DataLoader(train_dataset, shuffle=True, batch_size=batch_size)\n",
        "dev_dataloader = DataLoader(dev_dataset, batch_size=batch_size)\n",
        "test_dataloader = DataLoader(test_dataset, batch_size=batch_size)\n",
        "\n",
        "# Loading model and moving it to device\n",
        "vocab_size = tokenizer.vocab_size  \n",
        "model = LSTMClassifier(vocab_size=vocab_size)\n",
        "model.to(device)\n",
        "\n",
        "# Setting optimizer to Adam\n",
        "optimizer = AdamW(model.parameters(), lr=learning_rate)\n",
        "\n",
        "# Setting learning rate scheduler\n",
        "num_steps = len(train_dataloader)*epoch_num\n",
        "lr_scheduler = get_scheduler(name=\"linear\", optimizer=optimizer, num_warmup_steps=0, num_training_steps=num_steps)\n",
        "\n",
        "# Setting evaluation metric\n",
        "metric = evaluate.load(\"f1\")\n",
        "model.eval()\n",
        "loss_fn = nn.CrossEntropyLoss()\n",
        "\n",
        "# Model Training Loop\n",
        "model.train()\n",
        "for epoch in range(epoch_num):\n",
        "\n",
        "    # Setting progress bar\n",
        "    pbar = tqdm(range(int(num_steps/epoch_num)))\n",
        "    pbar.set_description(f\"Epoch {epoch+1} Training\")\n",
        "\n",
        "    losses = []\n",
        "    # Training Loop\n",
        "    for batch in train_dataloader:\n",
        "        pbar.update(1)\n",
        "\n",
        "        batch = {k: v.to(device) for k, v in batch.items()}\n",
        "        labels = batch['labels']\n",
        "        outputs = model(batch['input_ids'], batch['attention_mask'])\n",
        "        logits = outputs['logits']\n",
        "\n",
        "        loss = loss_fn(logits, labels)\n",
        "\n",
        "        loss.backward()\n",
        "        optimizer.step()\n",
        "        lr_scheduler.step()\n",
        "        optimizer.zero_grad()\n",
        "        losses.append(loss.item())\n",
        "\n",
        "    pbar = tqdm(range(int(num_steps/epoch_num)))\n",
        "    pbar.set_description(f\"Epoch {epoch+1} Train Score\")\n",
        "    \n",
        "    # Acc score loop for training set\n",
        "    for batch in train_dataloader:\n",
        "        batch = {k: v.to(device) for k, v in batch.items()}\n",
        "        with torch.no_grad():\n",
        "          labels = batch['labels']\n",
        "          outputs = model(batch['input_ids'], batch['attention_mask'])\n",
        "\n",
        "        pbar.update(1)\n",
        "        logits = outputs['logits']\n",
        "        preds = torch.argmax(logits, dim=-1)\n",
        "        metric.add_batch(predictions=preds, references=labels)\n",
        "\n",
        "    train_acc =  metric.compute()\n",
        "\n",
        "    pbar = tqdm(range(len(dev_dataloader)))\n",
        "    pbar.set_description(f\"Epoch {epoch+1} Dev Score\")\n",
        "    \n",
        "    # Acc score loop for devlopment set\n",
        "    for batch in dev_dataloader:\n",
        "        batch = {k: v.to(device) for k, v in batch.items()}\n",
        "        with torch.no_grad():\n",
        "          labels = batch['labels']\n",
        "          outputs = model(batch['input_ids'], batch['attention_mask'])\n",
        "\n",
        "        pbar.update(1)\n",
        "        logits = outputs['logits']\n",
        "        preds = torch.argmax(logits, dim=-1)\n",
        "        metric.add_batch(predictions=preds, references=labels)\n",
        "\n",
        "    dev_acc =  metric.compute()\n",
        "\n",
        "    print(f\"loss =\", round(np.mean(losses), 8))\n",
        "    print(f\"Epoch {epoch+1} Train F1 Score =\", round(train_acc[\"f1\"], 5))\n",
        "    print(f\"Epoch {epoch+1} Dev F1 Score =\", round(dev_acc[\"f1\"], 5))\n",
        "\n",
        "    print(\"---------------------------------------------------\")\n",
        "\n",
        "pbar = tqdm(range(len(test_dataloader)))\n",
        "pbar.set_description(f\"Epoch {epoch+1} Test Score\")\n",
        "\n",
        "# Acc score loop for test set\n",
        "for batch in test_dataloader:\n",
        "    batch = {k: v.to(device) for k, v in batch.items()}\n",
        "    with torch.no_grad():\n",
        "      labels = batch['labels']\n",
        "      outputs = model(batch['input_ids'], batch['attention_mask'])\n",
        "\n",
        "    pbar.update(1)\n",
        "    logits = outputs['logits']\n",
        "    preds = torch.argmax(logits, dim=-1)\n",
        "    metric.add_batch(predictions=preds, references=labels)\n",
        "\n",
        "print(\"Test F1 Score =\", round(metric.compute()[\"f1\"], 5))\n",
        "\n",
        "# Saves the model to specifiec path\n",
        "save_path = os.path.join(path, lstm_model_name)\n",
        "os.makedirs(save_path, exist_ok=True)\n",
        "torch.save(model.state_dict(), os.path.join(save_path, \"LSTM_Classifier.bin\"))"
      ]
    },
    {
      "cell_type": "markdown",
      "metadata": {},
      "source": [
        "LSTM Evaluation and Model Summary "
      ]
    },
    {
      "cell_type": "code",
      "execution_count": 25,
      "metadata": {},
      "outputs": [
        {
          "name": "stderr",
          "output_type": "stream",
          "text": [
            "C:\\Users\\DJ\\AppData\\Local\\Temp\\ipykernel_1240\\4239136296.py:7: FutureWarning: You are using `torch.load` with `weights_only=False` (the current default value), which uses the default pickle module implicitly. It is possible to construct malicious pickle data which will execute arbitrary code during unpickling (See https://github.com/pytorch/pytorch/blob/main/SECURITY.md#untrusted-models for more details). In a future release, the default value for `weights_only` will be flipped to `True`. This limits the functions that could be executed during unpickling. Arbitrary objects will no longer be allowed to be loaded via this mode unless they are explicitly allowlisted by the user via `torch.serialization.add_safe_globals`. We recommend you start setting `weights_only=True` for any use case where you don't have full control of the loaded file. Please open an issue on GitHub for any issues related to this experimental feature.\n",
            "  model.load_state_dict(torch.load(os.path.join(load_path, \"LSTM_Classifier.bin\"), map_location=device))\n"
          ]
        },
        {
          "data": {
            "application/vnd.jupyter.widget-view+json": {
              "model_id": "53e5a4b5246c4e6b9a266a2c9c7ec233",
              "version_major": 2,
              "version_minor": 0
            },
            "text/plain": [
              "  0%|          | 0/5000 [00:00<?, ?it/s]"
            ]
          },
          "metadata": {},
          "output_type": "display_data"
        },
        {
          "name": "stdout",
          "output_type": "stream",
          "text": [
            "Train F1 Score = 1.0\n"
          ]
        },
        {
          "data": {
            "application/vnd.jupyter.widget-view+json": {
              "model_id": "f238214fa6484973b4b906faa9be6e3e",
              "version_major": 2,
              "version_minor": 0
            },
            "text/plain": [
              "  0%|          | 0/625 [00:00<?, ?it/s]"
            ]
          },
          "metadata": {},
          "output_type": "display_data"
        },
        {
          "name": "stdout",
          "output_type": "stream",
          "text": [
            "Dev F1 Score = 0.89914\n"
          ]
        },
        {
          "data": {
            "application/vnd.jupyter.widget-view+json": {
              "model_id": "8c2f44fe579040f387ea8bb994bea79f",
              "version_major": 2,
              "version_minor": 0
            },
            "text/plain": [
              "  0%|          | 0/625 [00:00<?, ?it/s]"
            ]
          },
          "metadata": {},
          "output_type": "display_data"
        },
        {
          "name": "stdout",
          "output_type": "stream",
          "text": [
            "Test F1 Score = 0.89779\n"
          ]
        },
        {
          "data": {
            "text/plain": [
              "==========================================================================================\n",
              "Layer (type:depth-idx)                   Output Shape              Param #\n",
              "==========================================================================================\n",
              "LSTMClassifier                           [8, 2]                    --\n",
              "├─Embedding: 1-1                         [8, 512, 128]             3,906,816\n",
              "├─LSTM: 1-2                              [4096, 512]               790,528\n",
              "├─Linear: 1-3                            [8, 2]                    1,026\n",
              "==========================================================================================\n",
              "Total params: 4,698,370\n",
              "Trainable params: 4,698,370\n",
              "Non-trainable params: 0\n",
              "Total mult-adds (T): 1.66\n",
              "==========================================================================================\n",
              "Input size (MB): 0.07\n",
              "Forward/backward pass size (MB): 20.97\n",
              "Params size (MB): 18.79\n",
              "Estimated Total Size (MB): 39.83\n",
              "=========================================================================================="
            ]
          },
          "execution_count": 25,
          "metadata": {},
          "output_type": "execute_result"
        }
      ],
      "source": [
        "# Loading model and evaluating\n",
        "vocab_size = tokenizer.vocab_size  \n",
        "model = LSTMClassifier(vocab_size=vocab_size)\n",
        "\n",
        "load_path = os.path.join(path, lstm_model_name)\n",
        "model.load_state_dict(torch.load(os.path.join(load_path, \"LSTM_Classifier.bin\"), map_location=device))\n",
        "model.to(device)\n",
        "\n",
        "#Hyperparameter required for cell\n",
        "batch_size = 8\n",
        "\n",
        "# Setting datasets to expected format\n",
        "train_dataloader = DataLoader(train_dataset, batch_size=batch_size)\n",
        "dev_dataloader = DataLoader(dev_dataset, batch_size=batch_size)\n",
        "test_dataloader = DataLoader(test_dataset, batch_size=batch_size)\n",
        "\n",
        "# Setting lists for evaluation loop\n",
        "sets = ['Train', 'Dev', 'Test']\n",
        "data_sets = [train_dataloader, dev_dataloader, test_dataloader]\n",
        "\n",
        "# Setting evaluation metric\n",
        "metric = evaluate.load(\"f1\")\n",
        "model.eval()\n",
        "\n",
        "for i in range(0,len(sets)):\n",
        "\n",
        "    name = sets[i]\n",
        "    data = data_sets[i]\n",
        "    \n",
        "    pbar = tqdm(range(len(data)))\n",
        "    pbar.set_description(f\"{name} Set\")\n",
        "    \n",
        "    for batch in data:\n",
        "        batch = {k: v.to(device) for k, v in batch.items()}\n",
        "        with torch.no_grad():\n",
        "            labels = batch['labels']\n",
        "            outputs = model(batch['input_ids'], batch['attention_mask'])\n",
        "\n",
        "        pbar.update(1)\n",
        "        logits = outputs['logits']\n",
        "        preds = torch.argmax(logits, dim=-1)\n",
        "        metric.add_batch(predictions=preds, references=labels)\n",
        "\n",
        "    print(name, 'F1 Score =', round(metric.compute()[\"f1\"], 5))\n",
        "\n",
        "seq_length = 512  \n",
        "batch_size = 8  \n",
        "\n",
        "dummy_input_ids = torch.zeros((batch_size, seq_length), dtype=torch.long).to(device)\n",
        "dummy_attention_mask = torch.ones((batch_size, seq_length), dtype=torch.long).to(device)\n",
        "\n",
        "# Generate the model summary\n",
        "summary(model, input_data={\"input_ids\": dummy_input_ids, \"attention_mask\": dummy_attention_mask})"
      ]
    }
  ],
  "metadata": {
    "accelerator": "GPU",
    "colab": {
      "gpuType": "T4",
      "provenance": []
    },
    "kernelspec": {
      "display_name": "Python 3",
      "name": "python3"
    },
    "language_info": {
      "codemirror_mode": {
        "name": "ipython",
        "version": 3
      },
      "file_extension": ".py",
      "mimetype": "text/x-python",
      "name": "python",
      "nbconvert_exporter": "python",
      "pygments_lexer": "ipython3",
      "version": "3.10.12"
    },
    "widgets": {
      "application/vnd.jupyter.widget-state+json": {
        "016aae0dd8c14f1c9662a782cf77e58f": {
          "model_module": "@jupyter-widgets/base",
          "model_module_version": "1.2.0",
          "model_name": "LayoutModel",
          "state": {
            "_model_module": "@jupyter-widgets/base",
            "_model_module_version": "1.2.0",
            "_model_name": "LayoutModel",
            "_view_count": null,
            "_view_module": "@jupyter-widgets/base",
            "_view_module_version": "1.2.0",
            "_view_name": "LayoutView",
            "align_content": null,
            "align_items": null,
            "align_self": null,
            "border": null,
            "bottom": null,
            "display": null,
            "flex": null,
            "flex_flow": null,
            "grid_area": null,
            "grid_auto_columns": null,
            "grid_auto_flow": null,
            "grid_auto_rows": null,
            "grid_column": null,
            "grid_gap": null,
            "grid_row": null,
            "grid_template_areas": null,
            "grid_template_columns": null,
            "grid_template_rows": null,
            "height": null,
            "justify_content": null,
            "justify_items": null,
            "left": null,
            "margin": null,
            "max_height": null,
            "max_width": null,
            "min_height": null,
            "min_width": null,
            "object_fit": null,
            "object_position": null,
            "order": null,
            "overflow": null,
            "overflow_x": null,
            "overflow_y": null,
            "padding": null,
            "right": null,
            "top": null,
            "visibility": null,
            "width": null
          }
        },
        "022516664e5e442198244776b177f177": {
          "model_module": "@jupyter-widgets/base",
          "model_module_version": "1.2.0",
          "model_name": "LayoutModel",
          "state": {
            "_model_module": "@jupyter-widgets/base",
            "_model_module_version": "1.2.0",
            "_model_name": "LayoutModel",
            "_view_count": null,
            "_view_module": "@jupyter-widgets/base",
            "_view_module_version": "1.2.0",
            "_view_name": "LayoutView",
            "align_content": null,
            "align_items": null,
            "align_self": null,
            "border": null,
            "bottom": null,
            "display": null,
            "flex": null,
            "flex_flow": null,
            "grid_area": null,
            "grid_auto_columns": null,
            "grid_auto_flow": null,
            "grid_auto_rows": null,
            "grid_column": null,
            "grid_gap": null,
            "grid_row": null,
            "grid_template_areas": null,
            "grid_template_columns": null,
            "grid_template_rows": null,
            "height": null,
            "justify_content": null,
            "justify_items": null,
            "left": null,
            "margin": null,
            "max_height": null,
            "max_width": null,
            "min_height": null,
            "min_width": null,
            "object_fit": null,
            "object_position": null,
            "order": null,
            "overflow": null,
            "overflow_x": null,
            "overflow_y": null,
            "padding": null,
            "right": null,
            "top": null,
            "visibility": null,
            "width": null
          }
        },
        "04a69b1036ab4470bca96081d9428d4c": {
          "model_module": "@jupyter-widgets/base",
          "model_module_version": "1.2.0",
          "model_name": "LayoutModel",
          "state": {
            "_model_module": "@jupyter-widgets/base",
            "_model_module_version": "1.2.0",
            "_model_name": "LayoutModel",
            "_view_count": null,
            "_view_module": "@jupyter-widgets/base",
            "_view_module_version": "1.2.0",
            "_view_name": "LayoutView",
            "align_content": null,
            "align_items": null,
            "align_self": null,
            "border": null,
            "bottom": null,
            "display": null,
            "flex": null,
            "flex_flow": null,
            "grid_area": null,
            "grid_auto_columns": null,
            "grid_auto_flow": null,
            "grid_auto_rows": null,
            "grid_column": null,
            "grid_gap": null,
            "grid_row": null,
            "grid_template_areas": null,
            "grid_template_columns": null,
            "grid_template_rows": null,
            "height": null,
            "justify_content": null,
            "justify_items": null,
            "left": null,
            "margin": null,
            "max_height": null,
            "max_width": null,
            "min_height": null,
            "min_width": null,
            "object_fit": null,
            "object_position": null,
            "order": null,
            "overflow": null,
            "overflow_x": null,
            "overflow_y": null,
            "padding": null,
            "right": null,
            "top": null,
            "visibility": null,
            "width": null
          }
        },
        "056c1a408a92457686ed89591227fba6": {
          "model_module": "@jupyter-widgets/controls",
          "model_module_version": "1.5.0",
          "model_name": "FloatProgressModel",
          "state": {
            "_dom_classes": [],
            "_model_module": "@jupyter-widgets/controls",
            "_model_module_version": "1.5.0",
            "_model_name": "FloatProgressModel",
            "_view_count": null,
            "_view_module": "@jupyter-widgets/controls",
            "_view_module_version": "1.5.0",
            "_view_name": "ProgressView",
            "bar_style": "success",
            "description": "",
            "description_tooltip": null,
            "layout": "IPY_MODEL_5c27c39118134bbf98fe4c74d4bd04eb",
            "max": 4995,
            "min": 0,
            "orientation": "horizontal",
            "style": "IPY_MODEL_c924b3d3406441469cb21692e1e09a73",
            "value": 4995
          }
        },
        "0a36db20246440e2bfc6a50e4c45b9e0": {
          "model_module": "@jupyter-widgets/controls",
          "model_module_version": "1.5.0",
          "model_name": "ProgressStyleModel",
          "state": {
            "_model_module": "@jupyter-widgets/controls",
            "_model_module_version": "1.5.0",
            "_model_name": "ProgressStyleModel",
            "_view_count": null,
            "_view_module": "@jupyter-widgets/base",
            "_view_module_version": "1.2.0",
            "_view_name": "StyleView",
            "bar_color": null,
            "description_width": ""
          }
        },
        "1d03fa56a7b1424382ff26729e445a6a": {
          "model_module": "@jupyter-widgets/controls",
          "model_module_version": "1.5.0",
          "model_name": "FloatProgressModel",
          "state": {
            "_dom_classes": [],
            "_model_module": "@jupyter-widgets/controls",
            "_model_module_version": "1.5.0",
            "_model_name": "FloatProgressModel",
            "_view_count": null,
            "_view_module": "@jupyter-widgets/controls",
            "_view_module_version": "1.5.0",
            "_view_name": "ProgressView",
            "bar_style": "success",
            "description": "",
            "description_tooltip": null,
            "layout": "IPY_MODEL_8661f480d3ee4b97bc606fde25c23962",
            "max": 4998,
            "min": 0,
            "orientation": "horizontal",
            "style": "IPY_MODEL_276d53bd996e4d5dbcf6263ed6e0d957",
            "value": 4998
          }
        },
        "233e5a16f0754848a669e7ce37b58fdd": {
          "model_module": "@jupyter-widgets/base",
          "model_module_version": "1.2.0",
          "model_name": "LayoutModel",
          "state": {
            "_model_module": "@jupyter-widgets/base",
            "_model_module_version": "1.2.0",
            "_model_name": "LayoutModel",
            "_view_count": null,
            "_view_module": "@jupyter-widgets/base",
            "_view_module_version": "1.2.0",
            "_view_name": "LayoutView",
            "align_content": null,
            "align_items": null,
            "align_self": null,
            "border": null,
            "bottom": null,
            "display": null,
            "flex": null,
            "flex_flow": null,
            "grid_area": null,
            "grid_auto_columns": null,
            "grid_auto_flow": null,
            "grid_auto_rows": null,
            "grid_column": null,
            "grid_gap": null,
            "grid_row": null,
            "grid_template_areas": null,
            "grid_template_columns": null,
            "grid_template_rows": null,
            "height": null,
            "justify_content": null,
            "justify_items": null,
            "left": null,
            "margin": null,
            "max_height": null,
            "max_width": null,
            "min_height": null,
            "min_width": null,
            "object_fit": null,
            "object_position": null,
            "order": null,
            "overflow": null,
            "overflow_x": null,
            "overflow_y": null,
            "padding": null,
            "right": null,
            "top": null,
            "visibility": null,
            "width": null
          }
        },
        "238cd2118e224d9c9419072032754392": {
          "model_module": "@jupyter-widgets/controls",
          "model_module_version": "1.5.0",
          "model_name": "DescriptionStyleModel",
          "state": {
            "_model_module": "@jupyter-widgets/controls",
            "_model_module_version": "1.5.0",
            "_model_name": "DescriptionStyleModel",
            "_view_count": null,
            "_view_module": "@jupyter-widgets/base",
            "_view_module_version": "1.2.0",
            "_view_name": "StyleView",
            "description_width": ""
          }
        },
        "276d53bd996e4d5dbcf6263ed6e0d957": {
          "model_module": "@jupyter-widgets/controls",
          "model_module_version": "1.5.0",
          "model_name": "ProgressStyleModel",
          "state": {
            "_model_module": "@jupyter-widgets/controls",
            "_model_module_version": "1.5.0",
            "_model_name": "ProgressStyleModel",
            "_view_count": null,
            "_view_module": "@jupyter-widgets/base",
            "_view_module_version": "1.2.0",
            "_view_name": "StyleView",
            "bar_color": null,
            "description_width": ""
          }
        },
        "296308aad98e49b5a32f99a82077c7d1": {
          "model_module": "@jupyter-widgets/controls",
          "model_module_version": "1.5.0",
          "model_name": "HTMLModel",
          "state": {
            "_dom_classes": [],
            "_model_module": "@jupyter-widgets/controls",
            "_model_module_version": "1.5.0",
            "_model_name": "HTMLModel",
            "_view_count": null,
            "_view_module": "@jupyter-widgets/controls",
            "_view_module_version": "1.5.0",
            "_view_name": "HTMLView",
            "description": "",
            "description_tooltip": null,
            "layout": "IPY_MODEL_fdc3c0d0ab5d4b90954552e5c044eda4",
            "placeholder": "​",
            "style": "IPY_MODEL_e984326269314c2fac804a88f0414cb1",
            "value": " 39723/39723 [00:53&lt;00:00, 707.06 examples/s]"
          }
        },
        "2a72ce9a1d854f2bb05a68ae3f8f5a07": {
          "model_module": "@jupyter-widgets/controls",
          "model_module_version": "1.5.0",
          "model_name": "HTMLModel",
          "state": {
            "_dom_classes": [],
            "_model_module": "@jupyter-widgets/controls",
            "_model_module_version": "1.5.0",
            "_model_name": "HTMLModel",
            "_view_count": null,
            "_view_module": "@jupyter-widgets/controls",
            "_view_module_version": "1.5.0",
            "_view_name": "HTMLView",
            "description": "",
            "description_tooltip": null,
            "layout": "IPY_MODEL_4c240991a481408eaa889d65c5e2abd2",
            "placeholder": "​",
            "style": "IPY_MODEL_238cd2118e224d9c9419072032754392",
            "value": "model.safetensors: 100%"
          }
        },
        "2bbab61a61bb481e928c8733f019766c": {
          "model_module": "@jupyter-widgets/base",
          "model_module_version": "1.2.0",
          "model_name": "LayoutModel",
          "state": {
            "_model_module": "@jupyter-widgets/base",
            "_model_module_version": "1.2.0",
            "_model_name": "LayoutModel",
            "_view_count": null,
            "_view_module": "@jupyter-widgets/base",
            "_view_module_version": "1.2.0",
            "_view_name": "LayoutView",
            "align_content": null,
            "align_items": null,
            "align_self": null,
            "border": null,
            "bottom": null,
            "display": null,
            "flex": null,
            "flex_flow": null,
            "grid_area": null,
            "grid_auto_columns": null,
            "grid_auto_flow": null,
            "grid_auto_rows": null,
            "grid_column": null,
            "grid_gap": null,
            "grid_row": null,
            "grid_template_areas": null,
            "grid_template_columns": null,
            "grid_template_rows": null,
            "height": null,
            "justify_content": null,
            "justify_items": null,
            "left": null,
            "margin": null,
            "max_height": null,
            "max_width": null,
            "min_height": null,
            "min_width": null,
            "object_fit": null,
            "object_position": null,
            "order": null,
            "overflow": null,
            "overflow_x": null,
            "overflow_y": null,
            "padding": null,
            "right": null,
            "top": null,
            "visibility": null,
            "width": null
          }
        },
        "3c919ea438d84ac490f24de64babbdeb": {
          "model_module": "@jupyter-widgets/controls",
          "model_module_version": "1.5.0",
          "model_name": "HBoxModel",
          "state": {
            "_dom_classes": [],
            "_model_module": "@jupyter-widgets/controls",
            "_model_module_version": "1.5.0",
            "_model_name": "HBoxModel",
            "_view_count": null,
            "_view_module": "@jupyter-widgets/controls",
            "_view_module_version": "1.5.0",
            "_view_name": "HBoxView",
            "box_style": "",
            "children": [
              "IPY_MODEL_b8cc33b0f737470490e0f47c2c5a4e9f",
              "IPY_MODEL_eabc74ed1ad04f6994064deb8d824249",
              "IPY_MODEL_6d967abaf3ab44d5a28f138650bf7e8b"
            ],
            "layout": "IPY_MODEL_2bbab61a61bb481e928c8733f019766c"
          }
        },
        "448f3db9059a4267a8cbb8b956db8021": {
          "model_module": "@jupyter-widgets/controls",
          "model_module_version": "1.5.0",
          "model_name": "HBoxModel",
          "state": {
            "_dom_classes": [],
            "_model_module": "@jupyter-widgets/controls",
            "_model_module_version": "1.5.0",
            "_model_name": "HBoxModel",
            "_view_count": null,
            "_view_module": "@jupyter-widgets/controls",
            "_view_module_version": "1.5.0",
            "_view_name": "HBoxView",
            "box_style": "",
            "children": [
              "IPY_MODEL_e3214d5b67814d7db451ba4ec25c07da",
              "IPY_MODEL_056c1a408a92457686ed89591227fba6",
              "IPY_MODEL_a8dcc7a792524b15acc979acc29d0cdc"
            ],
            "layout": "IPY_MODEL_56b7a39588d84e209cb7691de290a5dc"
          }
        },
        "4c240991a481408eaa889d65c5e2abd2": {
          "model_module": "@jupyter-widgets/base",
          "model_module_version": "1.2.0",
          "model_name": "LayoutModel",
          "state": {
            "_model_module": "@jupyter-widgets/base",
            "_model_module_version": "1.2.0",
            "_model_name": "LayoutModel",
            "_view_count": null,
            "_view_module": "@jupyter-widgets/base",
            "_view_module_version": "1.2.0",
            "_view_name": "LayoutView",
            "align_content": null,
            "align_items": null,
            "align_self": null,
            "border": null,
            "bottom": null,
            "display": null,
            "flex": null,
            "flex_flow": null,
            "grid_area": null,
            "grid_auto_columns": null,
            "grid_auto_flow": null,
            "grid_auto_rows": null,
            "grid_column": null,
            "grid_gap": null,
            "grid_row": null,
            "grid_template_areas": null,
            "grid_template_columns": null,
            "grid_template_rows": null,
            "height": null,
            "justify_content": null,
            "justify_items": null,
            "left": null,
            "margin": null,
            "max_height": null,
            "max_width": null,
            "min_height": null,
            "min_width": null,
            "object_fit": null,
            "object_position": null,
            "order": null,
            "overflow": null,
            "overflow_x": null,
            "overflow_y": null,
            "padding": null,
            "right": null,
            "top": null,
            "visibility": null,
            "width": null
          }
        },
        "56b7a39588d84e209cb7691de290a5dc": {
          "model_module": "@jupyter-widgets/base",
          "model_module_version": "1.2.0",
          "model_name": "LayoutModel",
          "state": {
            "_model_module": "@jupyter-widgets/base",
            "_model_module_version": "1.2.0",
            "_model_name": "LayoutModel",
            "_view_count": null,
            "_view_module": "@jupyter-widgets/base",
            "_view_module_version": "1.2.0",
            "_view_name": "LayoutView",
            "align_content": null,
            "align_items": null,
            "align_self": null,
            "border": null,
            "bottom": null,
            "display": null,
            "flex": null,
            "flex_flow": null,
            "grid_area": null,
            "grid_auto_columns": null,
            "grid_auto_flow": null,
            "grid_auto_rows": null,
            "grid_column": null,
            "grid_gap": null,
            "grid_row": null,
            "grid_template_areas": null,
            "grid_template_columns": null,
            "grid_template_rows": null,
            "height": null,
            "justify_content": null,
            "justify_items": null,
            "left": null,
            "margin": null,
            "max_height": null,
            "max_width": null,
            "min_height": null,
            "min_width": null,
            "object_fit": null,
            "object_position": null,
            "order": null,
            "overflow": null,
            "overflow_x": null,
            "overflow_y": null,
            "padding": null,
            "right": null,
            "top": null,
            "visibility": null,
            "width": null
          }
        },
        "5bbf0c32b1d741459382fd4eca53a52d": {
          "model_module": "@jupyter-widgets/controls",
          "model_module_version": "1.5.0",
          "model_name": "DescriptionStyleModel",
          "state": {
            "_model_module": "@jupyter-widgets/controls",
            "_model_module_version": "1.5.0",
            "_model_name": "DescriptionStyleModel",
            "_view_count": null,
            "_view_module": "@jupyter-widgets/base",
            "_view_module_version": "1.2.0",
            "_view_name": "StyleView",
            "description_width": ""
          }
        },
        "5c27c39118134bbf98fe4c74d4bd04eb": {
          "model_module": "@jupyter-widgets/base",
          "model_module_version": "1.2.0",
          "model_name": "LayoutModel",
          "state": {
            "_model_module": "@jupyter-widgets/base",
            "_model_module_version": "1.2.0",
            "_model_name": "LayoutModel",
            "_view_count": null,
            "_view_module": "@jupyter-widgets/base",
            "_view_module_version": "1.2.0",
            "_view_name": "LayoutView",
            "align_content": null,
            "align_items": null,
            "align_self": null,
            "border": null,
            "bottom": null,
            "display": null,
            "flex": null,
            "flex_flow": null,
            "grid_area": null,
            "grid_auto_columns": null,
            "grid_auto_flow": null,
            "grid_auto_rows": null,
            "grid_column": null,
            "grid_gap": null,
            "grid_row": null,
            "grid_template_areas": null,
            "grid_template_columns": null,
            "grid_template_rows": null,
            "height": null,
            "justify_content": null,
            "justify_items": null,
            "left": null,
            "margin": null,
            "max_height": null,
            "max_width": null,
            "min_height": null,
            "min_width": null,
            "object_fit": null,
            "object_position": null,
            "order": null,
            "overflow": null,
            "overflow_x": null,
            "overflow_y": null,
            "padding": null,
            "right": null,
            "top": null,
            "visibility": null,
            "width": null
          }
        },
        "6d967abaf3ab44d5a28f138650bf7e8b": {
          "model_module": "@jupyter-widgets/controls",
          "model_module_version": "1.5.0",
          "model_name": "HTMLModel",
          "state": {
            "_dom_classes": [],
            "_model_module": "@jupyter-widgets/controls",
            "_model_module_version": "1.5.0",
            "_model_name": "HTMLModel",
            "_view_count": null,
            "_view_module": "@jupyter-widgets/controls",
            "_view_module_version": "1.5.0",
            "_view_name": "HTMLView",
            "description": "",
            "description_tooltip": null,
            "layout": "IPY_MODEL_233e5a16f0754848a669e7ce37b58fdd",
            "placeholder": "​",
            "style": "IPY_MODEL_7100a5a9f2124573ac66cd3760c079b1",
            "value": " 0/1242 [00:00&lt;?, ?it/s]"
          }
        },
        "702d6858a7fb4ec7b0676dd6919c3a60": {
          "model_module": "@jupyter-widgets/controls",
          "model_module_version": "1.5.0",
          "model_name": "DescriptionStyleModel",
          "state": {
            "_model_module": "@jupyter-widgets/controls",
            "_model_module_version": "1.5.0",
            "_model_name": "DescriptionStyleModel",
            "_view_count": null,
            "_view_module": "@jupyter-widgets/base",
            "_view_module_version": "1.2.0",
            "_view_name": "StyleView",
            "description_width": ""
          }
        },
        "7100a5a9f2124573ac66cd3760c079b1": {
          "model_module": "@jupyter-widgets/controls",
          "model_module_version": "1.5.0",
          "model_name": "DescriptionStyleModel",
          "state": {
            "_model_module": "@jupyter-widgets/controls",
            "_model_module_version": "1.5.0",
            "_model_name": "DescriptionStyleModel",
            "_view_count": null,
            "_view_module": "@jupyter-widgets/base",
            "_view_module_version": "1.2.0",
            "_view_name": "StyleView",
            "description_width": ""
          }
        },
        "7315ece2314b4852bde603929ae713ae": {
          "model_module": "@jupyter-widgets/base",
          "model_module_version": "1.2.0",
          "model_name": "LayoutModel",
          "state": {
            "_model_module": "@jupyter-widgets/base",
            "_model_module_version": "1.2.0",
            "_model_name": "LayoutModel",
            "_view_count": null,
            "_view_module": "@jupyter-widgets/base",
            "_view_module_version": "1.2.0",
            "_view_name": "LayoutView",
            "align_content": null,
            "align_items": null,
            "align_self": null,
            "border": null,
            "bottom": null,
            "display": null,
            "flex": null,
            "flex_flow": null,
            "grid_area": null,
            "grid_auto_columns": null,
            "grid_auto_flow": null,
            "grid_auto_rows": null,
            "grid_column": null,
            "grid_gap": null,
            "grid_row": null,
            "grid_template_areas": null,
            "grid_template_columns": null,
            "grid_template_rows": null,
            "height": null,
            "justify_content": null,
            "justify_items": null,
            "left": null,
            "margin": null,
            "max_height": null,
            "max_width": null,
            "min_height": null,
            "min_width": null,
            "object_fit": null,
            "object_position": null,
            "order": null,
            "overflow": null,
            "overflow_x": null,
            "overflow_y": null,
            "padding": null,
            "right": null,
            "top": null,
            "visibility": null,
            "width": null
          }
        },
        "81279b5d903244e2b9d1dce4b77f248b": {
          "model_module": "@jupyter-widgets/controls",
          "model_module_version": "1.5.0",
          "model_name": "HTMLModel",
          "state": {
            "_dom_classes": [],
            "_model_module": "@jupyter-widgets/controls",
            "_model_module_version": "1.5.0",
            "_model_name": "HTMLModel",
            "_view_count": null,
            "_view_module": "@jupyter-widgets/controls",
            "_view_module_version": "1.5.0",
            "_view_name": "HTMLView",
            "description": "",
            "description_tooltip": null,
            "layout": "IPY_MODEL_016aae0dd8c14f1c9662a782cf77e58f",
            "placeholder": "​",
            "style": "IPY_MODEL_702d6858a7fb4ec7b0676dd6919c3a60",
            "value": "Map: 100%"
          }
        },
        "82ea184c9b2c4ac7a442fe1f059859ab": {
          "model_module": "@jupyter-widgets/controls",
          "model_module_version": "1.5.0",
          "model_name": "HTMLModel",
          "state": {
            "_dom_classes": [],
            "_model_module": "@jupyter-widgets/controls",
            "_model_module_version": "1.5.0",
            "_model_name": "HTMLModel",
            "_view_count": null,
            "_view_module": "@jupyter-widgets/controls",
            "_view_module_version": "1.5.0",
            "_view_name": "HTMLView",
            "description": "",
            "description_tooltip": null,
            "layout": "IPY_MODEL_d0fe3e34cf374de88f03ae4732ab2561",
            "placeholder": "​",
            "style": "IPY_MODEL_ca7c1efa9c514b6ca5f96681fe2c64cf",
            "value": " 4998/4998 [00:07&lt;00:00, 760.92 examples/s]"
          }
        },
        "8661f480d3ee4b97bc606fde25c23962": {
          "model_module": "@jupyter-widgets/base",
          "model_module_version": "1.2.0",
          "model_name": "LayoutModel",
          "state": {
            "_model_module": "@jupyter-widgets/base",
            "_model_module_version": "1.2.0",
            "_model_name": "LayoutModel",
            "_view_count": null,
            "_view_module": "@jupyter-widgets/base",
            "_view_module_version": "1.2.0",
            "_view_name": "LayoutView",
            "align_content": null,
            "align_items": null,
            "align_self": null,
            "border": null,
            "bottom": null,
            "display": null,
            "flex": null,
            "flex_flow": null,
            "grid_area": null,
            "grid_auto_columns": null,
            "grid_auto_flow": null,
            "grid_auto_rows": null,
            "grid_column": null,
            "grid_gap": null,
            "grid_row": null,
            "grid_template_areas": null,
            "grid_template_columns": null,
            "grid_template_rows": null,
            "height": null,
            "justify_content": null,
            "justify_items": null,
            "left": null,
            "margin": null,
            "max_height": null,
            "max_width": null,
            "min_height": null,
            "min_width": null,
            "object_fit": null,
            "object_position": null,
            "order": null,
            "overflow": null,
            "overflow_x": null,
            "overflow_y": null,
            "padding": null,
            "right": null,
            "top": null,
            "visibility": null,
            "width": null
          }
        },
        "888f2e4657614aa181060150066ad6d5": {
          "model_module": "@jupyter-widgets/base",
          "model_module_version": "1.2.0",
          "model_name": "LayoutModel",
          "state": {
            "_model_module": "@jupyter-widgets/base",
            "_model_module_version": "1.2.0",
            "_model_name": "LayoutModel",
            "_view_count": null,
            "_view_module": "@jupyter-widgets/base",
            "_view_module_version": "1.2.0",
            "_view_name": "LayoutView",
            "align_content": null,
            "align_items": null,
            "align_self": null,
            "border": null,
            "bottom": null,
            "display": null,
            "flex": null,
            "flex_flow": null,
            "grid_area": null,
            "grid_auto_columns": null,
            "grid_auto_flow": null,
            "grid_auto_rows": null,
            "grid_column": null,
            "grid_gap": null,
            "grid_row": null,
            "grid_template_areas": null,
            "grid_template_columns": null,
            "grid_template_rows": null,
            "height": null,
            "justify_content": null,
            "justify_items": null,
            "left": null,
            "margin": null,
            "max_height": null,
            "max_width": null,
            "min_height": null,
            "min_width": null,
            "object_fit": null,
            "object_position": null,
            "order": null,
            "overflow": null,
            "overflow_x": null,
            "overflow_y": null,
            "padding": null,
            "right": null,
            "top": null,
            "visibility": null,
            "width": null
          }
        },
        "88ffdfeb3af74894aac2930c18e7fccf": {
          "model_module": "@jupyter-widgets/controls",
          "model_module_version": "1.5.0",
          "model_name": "HTMLModel",
          "state": {
            "_dom_classes": [],
            "_model_module": "@jupyter-widgets/controls",
            "_model_module_version": "1.5.0",
            "_model_name": "HTMLModel",
            "_view_count": null,
            "_view_module": "@jupyter-widgets/controls",
            "_view_module_version": "1.5.0",
            "_view_name": "HTMLView",
            "description": "",
            "description_tooltip": null,
            "layout": "IPY_MODEL_022516664e5e442198244776b177f177",
            "placeholder": "​",
            "style": "IPY_MODEL_5bbf0c32b1d741459382fd4eca53a52d",
            "value": " 268M/268M [00:02&lt;00:00, 150MB/s]"
          }
        },
        "8d96471c58934d4bb8e9ab13fd904333": {
          "model_module": "@jupyter-widgets/base",
          "model_module_version": "1.2.0",
          "model_name": "LayoutModel",
          "state": {
            "_model_module": "@jupyter-widgets/base",
            "_model_module_version": "1.2.0",
            "_model_name": "LayoutModel",
            "_view_count": null,
            "_view_module": "@jupyter-widgets/base",
            "_view_module_version": "1.2.0",
            "_view_name": "LayoutView",
            "align_content": null,
            "align_items": null,
            "align_self": null,
            "border": null,
            "bottom": null,
            "display": null,
            "flex": null,
            "flex_flow": null,
            "grid_area": null,
            "grid_auto_columns": null,
            "grid_auto_flow": null,
            "grid_auto_rows": null,
            "grid_column": null,
            "grid_gap": null,
            "grid_row": null,
            "grid_template_areas": null,
            "grid_template_columns": null,
            "grid_template_rows": null,
            "height": null,
            "justify_content": null,
            "justify_items": null,
            "left": null,
            "margin": null,
            "max_height": null,
            "max_width": null,
            "min_height": null,
            "min_width": null,
            "object_fit": null,
            "object_position": null,
            "order": null,
            "overflow": null,
            "overflow_x": null,
            "overflow_y": null,
            "padding": null,
            "right": null,
            "top": null,
            "visibility": null,
            "width": null
          }
        },
        "9314ef64f1d64f6e9e19cbbbd99dd619": {
          "model_module": "@jupyter-widgets/controls",
          "model_module_version": "1.5.0",
          "model_name": "HBoxModel",
          "state": {
            "_dom_classes": [],
            "_model_module": "@jupyter-widgets/controls",
            "_model_module_version": "1.5.0",
            "_model_name": "HBoxModel",
            "_view_count": null,
            "_view_module": "@jupyter-widgets/controls",
            "_view_module_version": "1.5.0",
            "_view_name": "HBoxView",
            "box_style": "",
            "children": [
              "IPY_MODEL_e88c3fa6e8554282b4a32e5cab24a2b3",
              "IPY_MODEL_adddf21c4ce9434ead101c200b4bad06",
              "IPY_MODEL_296308aad98e49b5a32f99a82077c7d1"
            ],
            "layout": "IPY_MODEL_7315ece2314b4852bde603929ae713ae"
          }
        },
        "9f0259e9e98e4c3690981f09484323b4": {
          "model_module": "@jupyter-widgets/controls",
          "model_module_version": "1.5.0",
          "model_name": "HBoxModel",
          "state": {
            "_dom_classes": [],
            "_model_module": "@jupyter-widgets/controls",
            "_model_module_version": "1.5.0",
            "_model_name": "HBoxModel",
            "_view_count": null,
            "_view_module": "@jupyter-widgets/controls",
            "_view_module_version": "1.5.0",
            "_view_name": "HBoxView",
            "box_style": "",
            "children": [
              "IPY_MODEL_2a72ce9a1d854f2bb05a68ae3f8f5a07",
              "IPY_MODEL_c2dae111f0704b5eac27e92405529e49",
              "IPY_MODEL_88ffdfeb3af74894aac2930c18e7fccf"
            ],
            "layout": "IPY_MODEL_d82a71e1d26944efb210525583711e17"
          }
        },
        "a3aa7a68eb8240ca9f4058917757cdf5": {
          "model_module": "@jupyter-widgets/base",
          "model_module_version": "1.2.0",
          "model_name": "LayoutModel",
          "state": {
            "_model_module": "@jupyter-widgets/base",
            "_model_module_version": "1.2.0",
            "_model_name": "LayoutModel",
            "_view_count": null,
            "_view_module": "@jupyter-widgets/base",
            "_view_module_version": "1.2.0",
            "_view_name": "LayoutView",
            "align_content": null,
            "align_items": null,
            "align_self": null,
            "border": null,
            "bottom": null,
            "display": null,
            "flex": null,
            "flex_flow": null,
            "grid_area": null,
            "grid_auto_columns": null,
            "grid_auto_flow": null,
            "grid_auto_rows": null,
            "grid_column": null,
            "grid_gap": null,
            "grid_row": null,
            "grid_template_areas": null,
            "grid_template_columns": null,
            "grid_template_rows": null,
            "height": null,
            "justify_content": null,
            "justify_items": null,
            "left": null,
            "margin": null,
            "max_height": null,
            "max_width": null,
            "min_height": null,
            "min_width": null,
            "object_fit": null,
            "object_position": null,
            "order": null,
            "overflow": null,
            "overflow_x": null,
            "overflow_y": null,
            "padding": null,
            "right": null,
            "top": null,
            "visibility": null,
            "width": null
          }
        },
        "a8dcc7a792524b15acc979acc29d0cdc": {
          "model_module": "@jupyter-widgets/controls",
          "model_module_version": "1.5.0",
          "model_name": "HTMLModel",
          "state": {
            "_dom_classes": [],
            "_model_module": "@jupyter-widgets/controls",
            "_model_module_version": "1.5.0",
            "_model_name": "HTMLModel",
            "_view_count": null,
            "_view_module": "@jupyter-widgets/controls",
            "_view_module_version": "1.5.0",
            "_view_name": "HTMLView",
            "description": "",
            "description_tooltip": null,
            "layout": "IPY_MODEL_e53cc507f426414598a999796c8c4b8b",
            "placeholder": "​",
            "style": "IPY_MODEL_fc572a754114410a97971b4ba34b3a83",
            "value": " 4995/4995 [00:05&lt;00:00, 881.13 examples/s]"
          }
        },
        "ad081336388842c089e6a939a3694ded": {
          "model_module": "@jupyter-widgets/controls",
          "model_module_version": "1.5.0",
          "model_name": "ProgressStyleModel",
          "state": {
            "_model_module": "@jupyter-widgets/controls",
            "_model_module_version": "1.5.0",
            "_model_name": "ProgressStyleModel",
            "_view_count": null,
            "_view_module": "@jupyter-widgets/base",
            "_view_module_version": "1.2.0",
            "_view_name": "StyleView",
            "bar_color": null,
            "description_width": ""
          }
        },
        "adddf21c4ce9434ead101c200b4bad06": {
          "model_module": "@jupyter-widgets/controls",
          "model_module_version": "1.5.0",
          "model_name": "FloatProgressModel",
          "state": {
            "_dom_classes": [],
            "_model_module": "@jupyter-widgets/controls",
            "_model_module_version": "1.5.0",
            "_model_name": "FloatProgressModel",
            "_view_count": null,
            "_view_module": "@jupyter-widgets/controls",
            "_view_module_version": "1.5.0",
            "_view_name": "ProgressView",
            "bar_style": "success",
            "description": "",
            "description_tooltip": null,
            "layout": "IPY_MODEL_04a69b1036ab4470bca96081d9428d4c",
            "max": 39723,
            "min": 0,
            "orientation": "horizontal",
            "style": "IPY_MODEL_ad081336388842c089e6a939a3694ded",
            "value": 39723
          }
        },
        "aec37837b138451fbbe886d574addf7d": {
          "model_module": "@jupyter-widgets/base",
          "model_module_version": "1.2.0",
          "model_name": "LayoutModel",
          "state": {
            "_model_module": "@jupyter-widgets/base",
            "_model_module_version": "1.2.0",
            "_model_name": "LayoutModel",
            "_view_count": null,
            "_view_module": "@jupyter-widgets/base",
            "_view_module_version": "1.2.0",
            "_view_name": "LayoutView",
            "align_content": null,
            "align_items": null,
            "align_self": null,
            "border": null,
            "bottom": null,
            "display": null,
            "flex": null,
            "flex_flow": null,
            "grid_area": null,
            "grid_auto_columns": null,
            "grid_auto_flow": null,
            "grid_auto_rows": null,
            "grid_column": null,
            "grid_gap": null,
            "grid_row": null,
            "grid_template_areas": null,
            "grid_template_columns": null,
            "grid_template_rows": null,
            "height": null,
            "justify_content": null,
            "justify_items": null,
            "left": null,
            "margin": null,
            "max_height": null,
            "max_width": null,
            "min_height": null,
            "min_width": null,
            "object_fit": null,
            "object_position": null,
            "order": null,
            "overflow": null,
            "overflow_x": null,
            "overflow_y": null,
            "padding": null,
            "right": null,
            "top": null,
            "visibility": null,
            "width": null
          }
        },
        "b2a31a45856b497b948a357669b84058": {
          "model_module": "@jupyter-widgets/controls",
          "model_module_version": "1.5.0",
          "model_name": "ProgressStyleModel",
          "state": {
            "_model_module": "@jupyter-widgets/controls",
            "_model_module_version": "1.5.0",
            "_model_name": "ProgressStyleModel",
            "_view_count": null,
            "_view_module": "@jupyter-widgets/base",
            "_view_module_version": "1.2.0",
            "_view_name": "StyleView",
            "bar_color": null,
            "description_width": ""
          }
        },
        "b8cc33b0f737470490e0f47c2c5a4e9f": {
          "model_module": "@jupyter-widgets/controls",
          "model_module_version": "1.5.0",
          "model_name": "HTMLModel",
          "state": {
            "_dom_classes": [],
            "_model_module": "@jupyter-widgets/controls",
            "_model_module_version": "1.5.0",
            "_model_name": "HTMLModel",
            "_view_count": null,
            "_view_module": "@jupyter-widgets/controls",
            "_view_module_version": "1.5.0",
            "_view_name": "HTMLView",
            "description": "",
            "description_tooltip": null,
            "layout": "IPY_MODEL_888f2e4657614aa181060150066ad6d5",
            "placeholder": "​",
            "style": "IPY_MODEL_c7b373e1319d40c9a25921136442453d",
            "value": "Epoch 1:   0%"
          }
        },
        "c2dae111f0704b5eac27e92405529e49": {
          "model_module": "@jupyter-widgets/controls",
          "model_module_version": "1.5.0",
          "model_name": "FloatProgressModel",
          "state": {
            "_dom_classes": [],
            "_model_module": "@jupyter-widgets/controls",
            "_model_module_version": "1.5.0",
            "_model_name": "FloatProgressModel",
            "_view_count": null,
            "_view_module": "@jupyter-widgets/controls",
            "_view_module_version": "1.5.0",
            "_view_name": "ProgressView",
            "bar_style": "success",
            "description": "",
            "description_tooltip": null,
            "layout": "IPY_MODEL_aec37837b138451fbbe886d574addf7d",
            "max": 267954768,
            "min": 0,
            "orientation": "horizontal",
            "style": "IPY_MODEL_b2a31a45856b497b948a357669b84058",
            "value": 267954768
          }
        },
        "c6adb6f6746049cf9f5b8d3170fad15e": {
          "model_module": "@jupyter-widgets/base",
          "model_module_version": "1.2.0",
          "model_name": "LayoutModel",
          "state": {
            "_model_module": "@jupyter-widgets/base",
            "_model_module_version": "1.2.0",
            "_model_name": "LayoutModel",
            "_view_count": null,
            "_view_module": "@jupyter-widgets/base",
            "_view_module_version": "1.2.0",
            "_view_name": "LayoutView",
            "align_content": null,
            "align_items": null,
            "align_self": null,
            "border": null,
            "bottom": null,
            "display": null,
            "flex": null,
            "flex_flow": null,
            "grid_area": null,
            "grid_auto_columns": null,
            "grid_auto_flow": null,
            "grid_auto_rows": null,
            "grid_column": null,
            "grid_gap": null,
            "grid_row": null,
            "grid_template_areas": null,
            "grid_template_columns": null,
            "grid_template_rows": null,
            "height": null,
            "justify_content": null,
            "justify_items": null,
            "left": null,
            "margin": null,
            "max_height": null,
            "max_width": null,
            "min_height": null,
            "min_width": null,
            "object_fit": null,
            "object_position": null,
            "order": null,
            "overflow": null,
            "overflow_x": null,
            "overflow_y": null,
            "padding": null,
            "right": null,
            "top": null,
            "visibility": null,
            "width": null
          }
        },
        "c7b373e1319d40c9a25921136442453d": {
          "model_module": "@jupyter-widgets/controls",
          "model_module_version": "1.5.0",
          "model_name": "DescriptionStyleModel",
          "state": {
            "_model_module": "@jupyter-widgets/controls",
            "_model_module_version": "1.5.0",
            "_model_name": "DescriptionStyleModel",
            "_view_count": null,
            "_view_module": "@jupyter-widgets/base",
            "_view_module_version": "1.2.0",
            "_view_name": "StyleView",
            "description_width": ""
          }
        },
        "c924b3d3406441469cb21692e1e09a73": {
          "model_module": "@jupyter-widgets/controls",
          "model_module_version": "1.5.0",
          "model_name": "ProgressStyleModel",
          "state": {
            "_model_module": "@jupyter-widgets/controls",
            "_model_module_version": "1.5.0",
            "_model_name": "ProgressStyleModel",
            "_view_count": null,
            "_view_module": "@jupyter-widgets/base",
            "_view_module_version": "1.2.0",
            "_view_name": "StyleView",
            "bar_color": null,
            "description_width": ""
          }
        },
        "ca7c1efa9c514b6ca5f96681fe2c64cf": {
          "model_module": "@jupyter-widgets/controls",
          "model_module_version": "1.5.0",
          "model_name": "DescriptionStyleModel",
          "state": {
            "_model_module": "@jupyter-widgets/controls",
            "_model_module_version": "1.5.0",
            "_model_name": "DescriptionStyleModel",
            "_view_count": null,
            "_view_module": "@jupyter-widgets/base",
            "_view_module_version": "1.2.0",
            "_view_name": "StyleView",
            "description_width": ""
          }
        },
        "cf0bd2e250d64f249121e69bbbba32c4": {
          "model_module": "@jupyter-widgets/base",
          "model_module_version": "1.2.0",
          "model_name": "LayoutModel",
          "state": {
            "_model_module": "@jupyter-widgets/base",
            "_model_module_version": "1.2.0",
            "_model_name": "LayoutModel",
            "_view_count": null,
            "_view_module": "@jupyter-widgets/base",
            "_view_module_version": "1.2.0",
            "_view_name": "LayoutView",
            "align_content": null,
            "align_items": null,
            "align_self": null,
            "border": null,
            "bottom": null,
            "display": null,
            "flex": null,
            "flex_flow": null,
            "grid_area": null,
            "grid_auto_columns": null,
            "grid_auto_flow": null,
            "grid_auto_rows": null,
            "grid_column": null,
            "grid_gap": null,
            "grid_row": null,
            "grid_template_areas": null,
            "grid_template_columns": null,
            "grid_template_rows": null,
            "height": null,
            "justify_content": null,
            "justify_items": null,
            "left": null,
            "margin": null,
            "max_height": null,
            "max_width": null,
            "min_height": null,
            "min_width": null,
            "object_fit": null,
            "object_position": null,
            "order": null,
            "overflow": null,
            "overflow_x": null,
            "overflow_y": null,
            "padding": null,
            "right": null,
            "top": null,
            "visibility": null,
            "width": null
          }
        },
        "d0fe3e34cf374de88f03ae4732ab2561": {
          "model_module": "@jupyter-widgets/base",
          "model_module_version": "1.2.0",
          "model_name": "LayoutModel",
          "state": {
            "_model_module": "@jupyter-widgets/base",
            "_model_module_version": "1.2.0",
            "_model_name": "LayoutModel",
            "_view_count": null,
            "_view_module": "@jupyter-widgets/base",
            "_view_module_version": "1.2.0",
            "_view_name": "LayoutView",
            "align_content": null,
            "align_items": null,
            "align_self": null,
            "border": null,
            "bottom": null,
            "display": null,
            "flex": null,
            "flex_flow": null,
            "grid_area": null,
            "grid_auto_columns": null,
            "grid_auto_flow": null,
            "grid_auto_rows": null,
            "grid_column": null,
            "grid_gap": null,
            "grid_row": null,
            "grid_template_areas": null,
            "grid_template_columns": null,
            "grid_template_rows": null,
            "height": null,
            "justify_content": null,
            "justify_items": null,
            "left": null,
            "margin": null,
            "max_height": null,
            "max_width": null,
            "min_height": null,
            "min_width": null,
            "object_fit": null,
            "object_position": null,
            "order": null,
            "overflow": null,
            "overflow_x": null,
            "overflow_y": null,
            "padding": null,
            "right": null,
            "top": null,
            "visibility": null,
            "width": null
          }
        },
        "d82a71e1d26944efb210525583711e17": {
          "model_module": "@jupyter-widgets/base",
          "model_module_version": "1.2.0",
          "model_name": "LayoutModel",
          "state": {
            "_model_module": "@jupyter-widgets/base",
            "_model_module_version": "1.2.0",
            "_model_name": "LayoutModel",
            "_view_count": null,
            "_view_module": "@jupyter-widgets/base",
            "_view_module_version": "1.2.0",
            "_view_name": "LayoutView",
            "align_content": null,
            "align_items": null,
            "align_self": null,
            "border": null,
            "bottom": null,
            "display": null,
            "flex": null,
            "flex_flow": null,
            "grid_area": null,
            "grid_auto_columns": null,
            "grid_auto_flow": null,
            "grid_auto_rows": null,
            "grid_column": null,
            "grid_gap": null,
            "grid_row": null,
            "grid_template_areas": null,
            "grid_template_columns": null,
            "grid_template_rows": null,
            "height": null,
            "justify_content": null,
            "justify_items": null,
            "left": null,
            "margin": null,
            "max_height": null,
            "max_width": null,
            "min_height": null,
            "min_width": null,
            "object_fit": null,
            "object_position": null,
            "order": null,
            "overflow": null,
            "overflow_x": null,
            "overflow_y": null,
            "padding": null,
            "right": null,
            "top": null,
            "visibility": null,
            "width": null
          }
        },
        "e3214d5b67814d7db451ba4ec25c07da": {
          "model_module": "@jupyter-widgets/controls",
          "model_module_version": "1.5.0",
          "model_name": "HTMLModel",
          "state": {
            "_dom_classes": [],
            "_model_module": "@jupyter-widgets/controls",
            "_model_module_version": "1.5.0",
            "_model_name": "HTMLModel",
            "_view_count": null,
            "_view_module": "@jupyter-widgets/controls",
            "_view_module_version": "1.5.0",
            "_view_name": "HTMLView",
            "description": "",
            "description_tooltip": null,
            "layout": "IPY_MODEL_c6adb6f6746049cf9f5b8d3170fad15e",
            "placeholder": "​",
            "style": "IPY_MODEL_e99ba5e74db745f5be8098d7f76b0cbb",
            "value": "Map: 100%"
          }
        },
        "e53cc507f426414598a999796c8c4b8b": {
          "model_module": "@jupyter-widgets/base",
          "model_module_version": "1.2.0",
          "model_name": "LayoutModel",
          "state": {
            "_model_module": "@jupyter-widgets/base",
            "_model_module_version": "1.2.0",
            "_model_name": "LayoutModel",
            "_view_count": null,
            "_view_module": "@jupyter-widgets/base",
            "_view_module_version": "1.2.0",
            "_view_name": "LayoutView",
            "align_content": null,
            "align_items": null,
            "align_self": null,
            "border": null,
            "bottom": null,
            "display": null,
            "flex": null,
            "flex_flow": null,
            "grid_area": null,
            "grid_auto_columns": null,
            "grid_auto_flow": null,
            "grid_auto_rows": null,
            "grid_column": null,
            "grid_gap": null,
            "grid_row": null,
            "grid_template_areas": null,
            "grid_template_columns": null,
            "grid_template_rows": null,
            "height": null,
            "justify_content": null,
            "justify_items": null,
            "left": null,
            "margin": null,
            "max_height": null,
            "max_width": null,
            "min_height": null,
            "min_width": null,
            "object_fit": null,
            "object_position": null,
            "order": null,
            "overflow": null,
            "overflow_x": null,
            "overflow_y": null,
            "padding": null,
            "right": null,
            "top": null,
            "visibility": null,
            "width": null
          }
        },
        "e551386c6fd2474e872c6bb1a794e3fe": {
          "model_module": "@jupyter-widgets/controls",
          "model_module_version": "1.5.0",
          "model_name": "DescriptionStyleModel",
          "state": {
            "_model_module": "@jupyter-widgets/controls",
            "_model_module_version": "1.5.0",
            "_model_name": "DescriptionStyleModel",
            "_view_count": null,
            "_view_module": "@jupyter-widgets/base",
            "_view_module_version": "1.2.0",
            "_view_name": "StyleView",
            "description_width": ""
          }
        },
        "e88c3fa6e8554282b4a32e5cab24a2b3": {
          "model_module": "@jupyter-widgets/controls",
          "model_module_version": "1.5.0",
          "model_name": "HTMLModel",
          "state": {
            "_dom_classes": [],
            "_model_module": "@jupyter-widgets/controls",
            "_model_module_version": "1.5.0",
            "_model_name": "HTMLModel",
            "_view_count": null,
            "_view_module": "@jupyter-widgets/controls",
            "_view_module_version": "1.5.0",
            "_view_name": "HTMLView",
            "description": "",
            "description_tooltip": null,
            "layout": "IPY_MODEL_8d96471c58934d4bb8e9ab13fd904333",
            "placeholder": "​",
            "style": "IPY_MODEL_e551386c6fd2474e872c6bb1a794e3fe",
            "value": "Map: 100%"
          }
        },
        "e984326269314c2fac804a88f0414cb1": {
          "model_module": "@jupyter-widgets/controls",
          "model_module_version": "1.5.0",
          "model_name": "DescriptionStyleModel",
          "state": {
            "_model_module": "@jupyter-widgets/controls",
            "_model_module_version": "1.5.0",
            "_model_name": "DescriptionStyleModel",
            "_view_count": null,
            "_view_module": "@jupyter-widgets/base",
            "_view_module_version": "1.2.0",
            "_view_name": "StyleView",
            "description_width": ""
          }
        },
        "e99ba5e74db745f5be8098d7f76b0cbb": {
          "model_module": "@jupyter-widgets/controls",
          "model_module_version": "1.5.0",
          "model_name": "DescriptionStyleModel",
          "state": {
            "_model_module": "@jupyter-widgets/controls",
            "_model_module_version": "1.5.0",
            "_model_name": "DescriptionStyleModel",
            "_view_count": null,
            "_view_module": "@jupyter-widgets/base",
            "_view_module_version": "1.2.0",
            "_view_name": "StyleView",
            "description_width": ""
          }
        },
        "eabc74ed1ad04f6994064deb8d824249": {
          "model_module": "@jupyter-widgets/controls",
          "model_module_version": "1.5.0",
          "model_name": "FloatProgressModel",
          "state": {
            "_dom_classes": [],
            "_model_module": "@jupyter-widgets/controls",
            "_model_module_version": "1.5.0",
            "_model_name": "FloatProgressModel",
            "_view_count": null,
            "_view_module": "@jupyter-widgets/controls",
            "_view_module_version": "1.5.0",
            "_view_name": "ProgressView",
            "bar_style": "",
            "description": "",
            "description_tooltip": null,
            "layout": "IPY_MODEL_cf0bd2e250d64f249121e69bbbba32c4",
            "max": 1242,
            "min": 0,
            "orientation": "horizontal",
            "style": "IPY_MODEL_0a36db20246440e2bfc6a50e4c45b9e0",
            "value": 0
          }
        },
        "f965787196e74f31906159b7215948a3": {
          "model_module": "@jupyter-widgets/controls",
          "model_module_version": "1.5.0",
          "model_name": "HBoxModel",
          "state": {
            "_dom_classes": [],
            "_model_module": "@jupyter-widgets/controls",
            "_model_module_version": "1.5.0",
            "_model_name": "HBoxModel",
            "_view_count": null,
            "_view_module": "@jupyter-widgets/controls",
            "_view_module_version": "1.5.0",
            "_view_name": "HBoxView",
            "box_style": "",
            "children": [
              "IPY_MODEL_81279b5d903244e2b9d1dce4b77f248b",
              "IPY_MODEL_1d03fa56a7b1424382ff26729e445a6a",
              "IPY_MODEL_82ea184c9b2c4ac7a442fe1f059859ab"
            ],
            "layout": "IPY_MODEL_a3aa7a68eb8240ca9f4058917757cdf5"
          }
        },
        "fc572a754114410a97971b4ba34b3a83": {
          "model_module": "@jupyter-widgets/controls",
          "model_module_version": "1.5.0",
          "model_name": "DescriptionStyleModel",
          "state": {
            "_model_module": "@jupyter-widgets/controls",
            "_model_module_version": "1.5.0",
            "_model_name": "DescriptionStyleModel",
            "_view_count": null,
            "_view_module": "@jupyter-widgets/base",
            "_view_module_version": "1.2.0",
            "_view_name": "StyleView",
            "description_width": ""
          }
        },
        "fdc3c0d0ab5d4b90954552e5c044eda4": {
          "model_module": "@jupyter-widgets/base",
          "model_module_version": "1.2.0",
          "model_name": "LayoutModel",
          "state": {
            "_model_module": "@jupyter-widgets/base",
            "_model_module_version": "1.2.0",
            "_model_name": "LayoutModel",
            "_view_count": null,
            "_view_module": "@jupyter-widgets/base",
            "_view_module_version": "1.2.0",
            "_view_name": "LayoutView",
            "align_content": null,
            "align_items": null,
            "align_self": null,
            "border": null,
            "bottom": null,
            "display": null,
            "flex": null,
            "flex_flow": null,
            "grid_area": null,
            "grid_auto_columns": null,
            "grid_auto_flow": null,
            "grid_auto_rows": null,
            "grid_column": null,
            "grid_gap": null,
            "grid_row": null,
            "grid_template_areas": null,
            "grid_template_columns": null,
            "grid_template_rows": null,
            "height": null,
            "justify_content": null,
            "justify_items": null,
            "left": null,
            "margin": null,
            "max_height": null,
            "max_width": null,
            "min_height": null,
            "min_width": null,
            "object_fit": null,
            "object_position": null,
            "order": null,
            "overflow": null,
            "overflow_x": null,
            "overflow_y": null,
            "padding": null,
            "right": null,
            "top": null,
            "visibility": null,
            "width": null
          }
        }
      }
    }
  },
  "nbformat": 4,
  "nbformat_minor": 0
}
